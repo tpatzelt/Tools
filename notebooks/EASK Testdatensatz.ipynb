{
 "cells": [
  {
   "cell_type": "code",
   "execution_count": 1,
   "metadata": {},
   "outputs": [],
   "source": [
    "import pandas as pd"
   ]
  },
  {
   "cell_type": "code",
   "execution_count": 42,
   "metadata": {},
   "outputs": [
    {
     "name": "stdout",
     "output_type": "stream",
     "text": [
      "1048575\n",
      "1048575\n"
     ]
    }
   ],
   "source": [
    "all_data1 = pd.read_csv(\"data/Labor_2018_HJ1.csv\", sep=\";\", encoding=\"latin1\")\n",
    "print(len(all_data1))\n",
    "all_data2 = pd.read_csv(\"data/Labor_EASK_2018_2HJ.csv\", sep=\";\", encoding=\"latin1\")\n",
    "print(len(all_data2))"
   ]
  },
  {
   "cell_type": "code",
   "execution_count": 43,
   "metadata": {},
   "outputs": [
    {
     "name": "stdout",
     "output_type": "stream",
     "text": [
      "[nan]\n"
     ]
    }
   ],
   "source": [
    "print(all_data2[\"ZEITERBRACHTEL\"].unique())"
   ]
  },
  {
   "cell_type": "code",
   "execution_count": 44,
   "metadata": {},
   "outputs": [],
   "source": [
    "all_data2 = all_data2[['FALLNR', 'VORGANGSNR', 'DATUMERBRACHTEL', 'CODE', 'BEZEICHNUNG',\n",
    "       'BEFUNDEL', 'EINHEIT', 'NORMALWERTMIN', 'NORMALWERTMAX', 'ANMERKUNG',\n",
    "       'Uhrzeit', 'Minute']]"
   ]
  },
  {
   "cell_type": "code",
   "execution_count": 45,
   "metadata": {},
   "outputs": [
    {
     "name": "stdout",
     "output_type": "stream",
     "text": [
      "Index(['FALLNR', 'VORGANGSNR', 'DATUMERBRACHTEL', 'CODE', 'BEZEICHNUNG',\n",
      "       'BEFUNDEL', 'EINHEIT', 'NORMALWERTMIN', 'NORMALWERTMAX', 'ANMERKUNG',\n",
      "       'Uhrzeit', 'Minute'],\n",
      "      dtype='object') \n",
      "\n",
      " Index(['FALLNR', 'VORGANGSNR', 'DATUMERBRACHTEL', 'CODE', 'BEZEICHNUNG',\n",
      "       'BEFUNDEL', 'EINHEIT', 'NORMALWERTMIN', 'NORMALWERTMAX', 'ANMERKUNG',\n",
      "       'Uhrzeit', 'Minute'],\n",
      "      dtype='object')\n"
     ]
    }
   ],
   "source": [
    "print(all_data2.columns,\"\\n\"*2, all_data1.columns)"
   ]
  },
  {
   "cell_type": "code",
   "execution_count": 46,
   "metadata": {},
   "outputs": [],
   "source": [
    "all_data = all_data1.append(all_data2).reset_index()"
   ]
  },
  {
   "cell_type": "code",
   "execution_count": 47,
   "metadata": {},
   "outputs": [
    {
     "data": {
      "text/plain": [
       "2097150"
      ]
     },
     "execution_count": 47,
     "metadata": {},
     "output_type": "execute_result"
    }
   ],
   "source": [
    "len(all_data)"
   ]
  },
  {
   "cell_type": "code",
   "execution_count": 55,
   "metadata": {},
   "outputs": [],
   "source": [
    "mibi = all_data.query(\"CODE==55000\")"
   ]
  },
  {
   "cell_type": "code",
   "execution_count": 56,
   "metadata": {},
   "outputs": [
    {
     "name": "stdout",
     "output_type": "stream",
     "text": [
      "13746\n",
      "15850\n"
     ]
    }
   ],
   "source": [
    "print(len(mibi))\n",
    "mibi = mibi.append(all_data.query(\"CODE==10205\"))\n",
    "print(len(mibi))"
   ]
  },
  {
   "cell_type": "code",
   "execution_count": 57,
   "metadata": {},
   "outputs": [
    {
     "name": "stdout",
     "output_type": "stream",
     "text": [
      "15850\n",
      "17997\n"
     ]
    }
   ],
   "source": [
    "print(len(mibi))\n",
    "mibi = mibi.append(all_data.query(\"CODE==10200\")).copy()\n",
    "print(len(mibi))"
   ]
  },
  {
   "cell_type": "code",
   "execution_count": 58,
   "metadata": {},
   "outputs": [],
   "source": [
    "mibi[\"ANMERKUNG\"] = mibi[\"ANMERKUNG\"].str.replace(\"_x000d_\",\"\")\n"
   ]
  },
  {
   "cell_type": "code",
   "execution_count": 59,
   "metadata": {},
   "outputs": [],
   "source": [
    "mibi[\"ANMERKUNG\"] = mibi[\"ANMERKUNG\"].str.replace(\"GEWÜNSCHTE UNTERSUCHUNG:\\n .*\\n\",\"\")\n",
    "mibi[\"ANMERKUNG\"] = mibi[\"ANMERKUNG\"].str.replace(\" species\",\"\")\n",
    "mibi[\"ANMERKUNG\"] = mibi[\"ANMERKUNG\"].str.replace(\" sp.\",\"\")\n",
    "mibi[\"ANMERKUNG\"] = mibi[\"ANMERKUNG\"].str.replace(\"\\.\\.\\.*\",\" \")"
   ]
  },
  {
   "cell_type": "code",
   "execution_count": 60,
   "metadata": {},
   "outputs": [],
   "source": [
    "mibi = mibi[[\"FALLNR\",\"ANMERKUNG\"]]"
   ]
  },
  {
   "cell_type": "code",
   "execution_count": 61,
   "metadata": {},
   "outputs": [],
   "source": [
    "mibi.to_csv(\"data/MIBI.csv\",encoding=\"latin1\",sep=\";\",index=False)"
   ]
  },
  {
   "cell_type": "code",
   "execution_count": 12,
   "metadata": {},
   "outputs": [],
   "source": [
    "lab = all_data.loc[~all_data.index.isin(mibi.index)].copy()"
   ]
  },
  {
   "cell_type": "code",
   "execution_count": 14,
   "metadata": {},
   "outputs": [],
   "source": [
    "lab=lab[~lab[\"DATUMERBRACHTEL\"].isin([\"p\"])]"
   ]
  },
  {
   "cell_type": "code",
   "execution_count": 17,
   "metadata": {},
   "outputs": [
    {
     "name": "stderr",
     "output_type": "stream",
     "text": [
      "C:\\Users\\tpatz\\AppData\\Local\\Programs\\Python\\Python36\\lib\\site-packages\\ipykernel_launcher.py:4: SettingWithCopyWarning: \n",
      "A value is trying to be set on a copy of a slice from a DataFrame\n",
      "\n",
      "See the caveats in the documentation: http://pandas.pydata.org/pandas-docs/stable/indexing.html#indexing-view-versus-copy\n",
      "  after removing the cwd from sys.path.\n"
     ]
    }
   ],
   "source": [
    "lab[\"Datum\"]=lab[\"DATUMERBRACHTEL\"].astype(str)+\" \"+lab[\"Uhrzeit\"].astype(str)+\":\"+lab[\"Minute\"].astype(str)+\":00\"\n",
    "lab[\"Referenzbereich\"]=lab[\"NORMALWERTMIN\"].astype(str)+\"-\"+lab[\"NORMALWERTMAX\"]\n",
    "krea_mask = lab[\"BEZEICHNUNG\"]==\"Kreatinin im Serum\"\n",
    "lab[\"Referenzbereich\"][krea_mask] = (lab[\"NORMALWERTMIN\"][krea_mask].astype(float)*88.4).astype(str)+\"-\"+(lab[\"NORMALWERTMAX\"][krea_mask].astype(float)*88.4).astype(str)"
   ]
  },
  {
   "cell_type": "code",
   "execution_count": 18,
   "metadata": {},
   "outputs": [],
   "source": [
    "lab.to_csv(\"data/Labor_2018.csv\",encoding=\"latin1\",sep=\";\",index=False)"
   ]
  },
  {
   "cell_type": "code",
   "execution_count": null,
   "metadata": {},
   "outputs": [],
   "source": []
  }
 ],
 "metadata": {
  "kernelspec": {
   "display_name": "Python 3",
   "language": "python",
   "name": "python3"
  },
  "language_info": {
   "codemirror_mode": {
    "name": "ipython",
    "version": 3
   },
   "file_extension": ".py",
   "mimetype": "text/x-python",
   "name": "python",
   "nbconvert_exporter": "python",
   "pygments_lexer": "ipython3",
   "version": "3.6.5"
  }
 },
 "nbformat": 4,
 "nbformat_minor": 2
}
