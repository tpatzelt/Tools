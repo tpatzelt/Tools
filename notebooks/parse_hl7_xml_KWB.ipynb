{
 "cells": [
  {
   "cell_type": "code",
   "execution_count": 1,
   "metadata": {},
   "outputs": [],
   "source": [
    "import pandas as pd"
   ]
  },
  {
   "cell_type": "code",
   "execution_count": 2,
   "metadata": {},
   "outputs": [],
   "source": [
    "analyte_dict = {\n",
    "\t\"CREA\" : [\"SL_nz-krea\",\"Crea\",\"Creatinin\",\"Krea\",\"Kreatinin\",\"Kreatinin im Serum\",\"KREA\",\"CREA\",\"KRS\"],\n",
    "\t\"GFR\" : [\"SL_nz-ckd-epi\", \"eGFR\",\"eGFR CysC(CKD-EPI)\", \"GFR\", \"Glomeruläre Filtrationsrate\",\"glomeruläre Filtrationsrate\"],\n",
    "\t\"BLUTZUCKER\" : [\"GLucose Poct\",\"SL_nz-glu\", \"Glukose\",\"Glucose\",\"BZ\",\"YBZ\",\"YBGABZ\", \"BZNÜ\",\"BZ14\", \"GLUS\",\"Blutzucker\"],\n",
    "\t\"KALIUM\" : [\"Kalium Poct\",\"Kalium\",\"Kalium im Serum\",\"K\",\"K+\",\"RM_K+\",\"SL_nz-k\",\"YK+\"],\n",
    "\t\"NATRIUM\" : [\"Natrium Poct\",\"Natrium\",\"Na\",\"Na+\",\"YNA+\",\"NA\",\"SL_nz-na\"],\n",
    "\t\"HÄMOGLOBIN\" : [\"Hämoglobin Poct\",\"Hämoglobin\",\"HB\",\"SL_nz-hb\",\"YTHB\",\"HBG\"],\n",
    "\t\"QUICK\" : [\"Quick (TPZ)\",\"SL_nz-quick2\", \"QUICK\",\"QUIP\",\"Quick ( TPZ )\"],\n",
    "\t\"INR\" : [\"inr\",\"INR\"],\n",
    "#\t\"TROPONIN\" : [\"Troponin T\"],\n",
    "\t\"ALBUMIN\" : [\"SL_nz-alb\",\"ALBUM\",\"Albumin im Serum\",\"ALB\",\"Albumin\"],\n",
    "\t\"FOLSÄURE\" : [\"SL_nz-fol2\",\"Folsäure\",\"FOLS\"],\n",
    "\t\"EIWEIß\" : [\"SL_nz-tp\",\"TP\",\"Gesamteiweiß\"],\n",
    "\t\"LEUKOZYTEN\" : [\"SL_nz-leuko\",\"LEUK\",\"Leukozyten\",\"LEU\"],\n",
    "\t\"PROBNP\" : [\"SL_nz-probnp\",\"NT pro B-Typ natriuretisches Peptid\",\"BNP\",\"NT-proBNP\"],\n",
    "\t\"FERRITIN\" : [\"SL_nz-fer\",\"FERRI\",\"Ferritin\",\"FER\"],\n",
    "\t\"HBA1C\" : [\"SL_nz-hba1c\",\"SL_nz-hba1c-cob\",\"HBA1C\",\"HbA1c\", \"HbA1 c berechnet in mmol/mol\"],\n",
    "\t\"SO2\" : [\"SL_nz-so2-k\",\"SL_nz-so2-a\",\"POCT SO2c\", \"POCT SO2c arteriell\",\"YSO2\",\"SOA2\",\"SO2K\",\"SO2SA\",\"SO2A\",\"O2 Sättigung POCT\",\"P_SO2\",],\n",
    "\t\"PCO2\" : [\"SL_nz-pco2-k\",\"YPCO2\",\"YPCO2T\",\"PCO2  Poct\", \"POCT pCO2t arteriell\", \"PCO2V\",\"PCO2A\",\"PCO2K\",\"pCO2\"],\n",
    "\t\"PO2\" : [\"SL_nz-po2-k\",\"YPO2\",\"YPO2T\",\"PO2A\",\"PO2K\",\"POCT pO2t arteriell\", \"POCT pO2t\",\"pO2\"]\n",
    "\t}\n",
    "\n",
    "# im einheiten_dict werden die gewünschten einheiten benannt in denen die werte umgewandelt \n",
    "# werden sollen. falls der wert bereits in der richtigen einheit ist, wird die erste neue einheit aus converter_dict\n",
    "#für das jeweilige analyt benutzt\n",
    "\n",
    "datumsformat_dict = {\n",
    "\t\"LDK\" : \"%Y%m%d%H%M\",\n",
    "\t\"AMK\" : \"%d.%m.%y %H:%M:%S\",\n",
    "\t\"KBL\" : \"%d.%m.%Y %H:%M:%S\",\n",
    "\t\"EASK\" : \"%d.%m.%Y %H:%M:%S\",\n",
    "\t\"KKE\" : \"not defined yet\",\n",
    "\t}\n"
   ]
  },
  {
   "cell_type": "markdown",
   "metadata": {},
   "source": [
    "lab 2017"
   ]
  },
  {
   "cell_type": "code",
   "execution_count": 5,
   "metadata": {},
   "outputs": [
    {
     "data": {
      "text/plain": [
       "['Dezember Januar Daten/2018_OPUS_ORU_01.txt',\n",
       " 'Dezember Januar Daten/2018_OPUS_ORU_02.txt',\n",
       " 'Dezember Januar Daten/2018_OPUS_ORU_03.txt',\n",
       " 'Dezember Januar Daten/2018_OPUS_ORU_04.txt',\n",
       " 'Dezember Januar Daten/2018_OPUS_ORU_05.txt',\n",
       " 'Dezember Januar Daten/2018_OPUS_ORU_06.txt',\n",
       " 'Dezember Januar Daten/2019_OPUS_ORU_01.txt',\n",
       " 'Dezember Januar Daten/2019_OPUS_ORU_02.txt',\n",
       " 'Dezember Januar Daten/2019_OPUS_ORU_03.txt',\n",
       " 'Dezember Januar Daten/2019_OPUS_ORU_04.txt',\n",
       " 'Dezember Januar Daten/2019_OPUS_ORU_05.txt',\n",
       " 'Dezember Januar Daten/2019_OPUS_ORU_06.txt']"
      ]
     },
     "execution_count": 5,
     "metadata": {},
     "output_type": "execute_result"
    }
   ],
   "source": [
    "lab_path = \"Dezember Januar Daten/2018_OPUS_ORU_0\"\n",
    "lab_dirs = [lab_path+str(x)+\".txt\" for x in range(1,7)]\n",
    "lab_path = \"Dezember Januar Daten/2019_OPUS_ORU_0\"\n",
    "lab_dirs.extend([lab_path+str(x)+\".txt\" for x in range(1,7)])\n",
    "lab_dirs"
   ]
  },
  {
   "cell_type": "code",
   "execution_count": 23,
   "metadata": {},
   "outputs": [
    {
     "name": "stdout",
     "output_type": "stream",
     "text": [
      "Processing: Dezember Januar Daten/2018_OPUS_ORU_01.txt\n",
      "Processing: Dezember Januar Daten/2018_OPUS_ORU_02.txt\n",
      "Processing: Dezember Januar Daten/2018_OPUS_ORU_03.txt\n",
      "Processing: Dezember Januar Daten/2018_OPUS_ORU_04.txt\n",
      "Processing: Dezember Januar Daten/2018_OPUS_ORU_05.txt\n",
      "Processing: Dezember Januar Daten/2018_OPUS_ORU_06.txt\n",
      "Processing: Dezember Januar Daten/2019_OPUS_ORU_01.txt\n",
      "Processing: Dezember Januar Daten/2019_OPUS_ORU_02.txt\n",
      "Processing: Dezember Januar Daten/2019_OPUS_ORU_03.txt\n",
      "Processing: Dezember Januar Daten/2019_OPUS_ORU_04.txt\n",
      "Processing: Dezember Januar Daten/2019_OPUS_ORU_05.txt\n",
      "Processing: Dezember Januar Daten/2019_OPUS_ORU_06.txt\n",
      "        KH-ID Laborkürzel Messwert Masseinheit Referenzbereich         Datum\n",
      "0  2348840518        LEUK     11.2     10^3/µl      4.5 - 13.0  201812010000\n",
      "1  2348840518         ERY     4.79     10^6/µl       4.5 - 5.9  201812010000\n",
      "2  2348840518          HB     13.8        g/dl     12.8 - 16.8  201812010000\n",
      "3  2348840518          HK     40.4           %         37 - 49  201812010000\n",
      "4  2348840518         MCV     84.3          fl         80 - 96  201812010000\n",
      "Wall time: 1min 47s\n"
     ]
    }
   ],
   "source": [
    "%%time\n",
    "#measurements = pd.DataFrame(columns=['ID', 'Laborkürzel', 'Messwert', 'Maßeinheit', 'Referenzbereich', 'AB-Datum/Zeit'])\n",
    "rows = []\n",
    "for d in lab_dirs:\n",
    "    print(\"Processing: {}\".format(d))\n",
    "    with open(d) as f:\n",
    "        sample_count = 0\n",
    "        for msg in f:\n",
    "            if sample_count==1000:\n",
    "                break\n",
    "            #sample_count +=1\n",
    "            #print(msg)\n",
    "            segments = msg.replace(\"\\S\\\\\",\"^\").replace(\"\\n\",\"\").split(\"|\")\n",
    "            #print(segments)\n",
    "            if segments[0] == \"PV1\":\n",
    "                d = dict()\n",
    "                d[\"KH-ID\"] = segments[19]\n",
    "            if segments[0] == \"OBX\":\n",
    "                        #print(segments)\n",
    "                d[\"Laborkürzel\"] = segments[3]\n",
    "                #print(segments[3])\n",
    "                d[\"Messwert\"] = segments[5]\n",
    "                d[\"Masseinheit\"] = segments[6].lower()\n",
    "                if d[\"Laborkürzel\"] in analyte_dict[\"CREA\"]:\n",
    "                    try:\n",
    "                        lower = float(segments[7].split(\"-\")[0].strip())\n",
    "                        upper = float(segments[7].split(\"-\")[1].strip())\n",
    "                    except ValueError:\n",
    "                        continue                        \n",
    "                    lower = converter_dict[\"CREA\"][d[\"Masseinheit\"]][\"µmol/l\"](lower)\n",
    "                    upper = converter_dict[\"CREA\"][d[\"Masseinheit\"]][\"µmol/l\"](upper)\n",
    "                    d[\"Referenzbereich\"] = str(round(lower,0)) + \" - \" + str(round(upper,0))\n",
    "                else:\n",
    "                    d[\"Referenzbereich\"] = segments[7]\n",
    "                   # this is inconsistent, to be improved\n",
    "                d['Datum'] = segments[-2]\n",
    "                \n",
    "                   # add measurement to dataframe\n",
    "                if not(d[\"Messwert\"] in [ '!folgt', \"!angef.\",'!storno', '!sKomm', '[n.ber]']):\n",
    "                    rows.append(dict(d))\n",
    "                    #measurements.append(pd.Series(pid, kuerzel, messwert, einheit, referenz, datum),sort=False)\n",
    "                    #i +=1\n",
    "measurements = pd.DataFrame(rows,columns=['KH-ID', 'Laborkürzel', 'Messwert', 'Masseinheit', 'Referenzbereich', 'Datum'])\n",
    "print(measurements.head())"
   ]
  },
  {
   "cell_type": "code",
   "execution_count": 24,
   "metadata": {
    "scrolled": true
   },
   "outputs": [
    {
     "name": "stderr",
     "output_type": "stream",
     "text": [
      "C:\\Users\\tpatz\\AppData\\Local\\Programs\\Python\\Python36\\lib\\site-packages\\IPython\\core\\interactiveshell.py:2785: DtypeWarning: Columns (5) have mixed types. Specify dtype option on import or set low_memory=False.\n",
      "  interactivity=interactivity, compiler=compiler, result=result)\n"
     ]
    },
    {
     "name": "stdout",
     "output_type": "stream",
     "text": [
      "['10^3/µl' '10^6/µl' 'g/dl' '%' 'fl' 'pg' '' 'ie/l' 'u/l' 'ng/ml' 'µg/l'\n",
      " 'µiu/ml' 'ng/dl' 'mmol/l' 'mg/dl' 'ml/min' 'mmhg' 'sec' 'mg/l' 'ng/l'\n",
      " 'miu/ml' 'o/oo' 'µg/dl' 'µg/ml' 'u/ml' '/µl' 'g/l' 'pg/ml' 'mg/24h'\n",
      " 'mmol/24h' 'g/24h']\n"
     ]
    },
    {
     "data": {
      "text/html": [
       "<div>\n",
       "<style scoped>\n",
       "    .dataframe tbody tr th:only-of-type {\n",
       "        vertical-align: middle;\n",
       "    }\n",
       "\n",
       "    .dataframe tbody tr th {\n",
       "        vertical-align: top;\n",
       "    }\n",
       "\n",
       "    .dataframe thead th {\n",
       "        text-align: right;\n",
       "    }\n",
       "</style>\n",
       "<table border=\"1\" class=\"dataframe\">\n",
       "  <thead>\n",
       "    <tr style=\"text-align: right;\">\n",
       "      <th></th>\n",
       "      <th>KH-ID</th>\n",
       "      <th>Laborkürzel</th>\n",
       "      <th>Messwert</th>\n",
       "      <th>Masseinheit</th>\n",
       "      <th>Referenzbereich</th>\n",
       "      <th>Datum</th>\n",
       "    </tr>\n",
       "  </thead>\n",
       "  <tbody>\n",
       "    <tr>\n",
       "      <th>0</th>\n",
       "      <td>2348840518</td>\n",
       "      <td>LEUK</td>\n",
       "      <td>11.2</td>\n",
       "      <td>10^3/µl</td>\n",
       "      <td>4.5 - 13.0</td>\n",
       "      <td>201812010000</td>\n",
       "    </tr>\n",
       "    <tr>\n",
       "      <th>1</th>\n",
       "      <td>2348840518</td>\n",
       "      <td>ERY</td>\n",
       "      <td>4.79</td>\n",
       "      <td>10^6/µl</td>\n",
       "      <td>4.5 - 5.9</td>\n",
       "      <td>201812010000</td>\n",
       "    </tr>\n",
       "    <tr>\n",
       "      <th>2</th>\n",
       "      <td>2348840518</td>\n",
       "      <td>HB</td>\n",
       "      <td>13.8</td>\n",
       "      <td>g/dl</td>\n",
       "      <td>12.8 - 16.8</td>\n",
       "      <td>201812010000</td>\n",
       "    </tr>\n",
       "    <tr>\n",
       "      <th>3</th>\n",
       "      <td>2348840518</td>\n",
       "      <td>HK</td>\n",
       "      <td>40.4</td>\n",
       "      <td>%</td>\n",
       "      <td>37 - 49</td>\n",
       "      <td>201812010000</td>\n",
       "    </tr>\n",
       "    <tr>\n",
       "      <th>4</th>\n",
       "      <td>2348840518</td>\n",
       "      <td>MCV</td>\n",
       "      <td>84.3</td>\n",
       "      <td>fl</td>\n",
       "      <td>80 - 96</td>\n",
       "      <td>201812010000</td>\n",
       "    </tr>\n",
       "  </tbody>\n",
       "</table>\n",
       "</div>"
      ],
      "text/plain": [
       "        KH-ID Laborkürzel Messwert Masseinheit Referenzbereich         Datum\n",
       "0  2348840518        LEUK     11.2     10^3/µl      4.5 - 13.0  201812010000\n",
       "1  2348840518         ERY     4.79     10^6/µl       4.5 - 5.9  201812010000\n",
       "2  2348840518          HB     13.8        g/dl     12.8 - 16.8  201812010000\n",
       "3  2348840518          HK     40.4           %         37 - 49  201812010000\n",
       "4  2348840518         MCV     84.3          fl         80 - 96  201812010000"
      ]
     },
     "execution_count": 24,
     "metadata": {},
     "output_type": "execute_result"
    }
   ],
   "source": [
    "measurements.to_csv(\"Dezember Januar Daten/Labor.csv\",sep=\";\",index=False,encoding=\"latin1\")\n",
    "enc = pd.read_csv(\"Dezember Januar Daten/Labor.csv\",sep=\";\",na_filter=False,encoding=\"latin1\")\n",
    "print(enc[\"Masseinheit\"].unique())\n",
    "enc.head()"
   ]
  },
  {
   "cell_type": "markdown",
   "metadata": {
    "scrolled": true
   },
   "source": [
    "RIS 2017"
   ]
  },
  {
   "cell_type": "code",
   "execution_count": 12,
   "metadata": {
    "scrolled": true
   },
   "outputs": [
    {
     "data": {
      "text/plain": [
       "['Dezember Januar Daten/2018_RIS_01.txt',\n",
       " 'Dezember Januar Daten/2019_RIS_01.txt']"
      ]
     },
     "execution_count": 12,
     "metadata": {},
     "output_type": "execute_result"
    }
   ],
   "source": [
    "ris_path = \"Dezember Januar Daten/2018_RIS_0\"\n",
    "ris_dirs = [ris_path+str(x)+\".txt\" for x in range(1,2)]\n",
    "ris_path = \"Dezember Januar Daten/2019_RIS_0\"\n",
    "ris_dirs.extend([ris_path+str(x)+\".txt\" for x in range(1,2)])\n",
    "ris_dirs\n",
    "\n"
   ]
  },
  {
   "cell_type": "code",
   "execution_count": 15,
   "metadata": {},
   "outputs": [
    {
     "name": "stdout",
     "output_type": "stream",
     "text": [
      "Processing: Dezember Januar Daten/2018_RIS_01.txt\n",
      "Processing: Dezember Januar Daten/2019_RIS_01.txt\n",
      "        KH-ID                                             Befund\n",
      "0  1821764618  Untersuchung wurde in Bezug auf den Originalbe...\n",
      "1  1831006618  Untersuchung wurde in Bezug auf den Originalbe...\n",
      "2  1830446318  Untersuchung wurde in Bezug auf den Originalbe...\n",
      "3  2348853918  Die Leistungserfassung dient lediglich der Adm...\n",
      "4  1821190918  Thorax a.p.(Intensivstation) vom 01.12.2018 um...\n",
      "Wall time: 1.21 s\n"
     ]
    }
   ],
   "source": [
    "%%time\n",
    "#measurements = pd.DataFrame(columns=['ID', 'Laborkürzel', 'Messwert', 'Maßeinheit', 'Referenzbereich', 'AB-Datum/Zeit'])\n",
    "rows = []\n",
    "for d in ris_dirs:\n",
    "    print(\"Processing: {}\".format(d))\n",
    "    with open(d,encoding=\"latin1\") as f:\n",
    "        sample_count = 0\n",
    "        for msg in f:\n",
    "            if sample_count==100:\n",
    "                break\n",
    "            #sample_count +=1\n",
    "            #print(msg)\n",
    "            segments = msg.replace(\"\\\\.in+0\\\\\",\"\").replace(\"\\\\.in-0\\\\\",\"\").replace(\"\\\\.br\\\\\",\"\").split(\"|\")\n",
    "            #print(segments)\n",
    "            if segments[0] == \"PV1\":\n",
    "                d = dict()\n",
    "                d[\"KH-ID\"] = segments[19]\n",
    "            if segments[0] == \"OBX\":\n",
    "                d[\"Befund\"] = segments[5]\n",
    "                if segments[5] not in [\"Vorabbefund nur für Bildaufruf\",\"\",\" \",\"Befundung und Bildarchivierung im jeweiligen Subsystem. \",\"Die Befundung erfolgt im System der Urologischen Gemeinschaftspraxis. \"]:\n",
    "                    rows.append(dict(d))\n",
    "                \n",
    "measurements = pd.DataFrame(rows,columns=['KH-ID', \"Befund\"])\n",
    "print(measurements.head())"
   ]
  },
  {
   "cell_type": "code",
   "execution_count": 16,
   "metadata": {},
   "outputs": [
    {
     "data": {
      "text/html": [
       "<div>\n",
       "<style scoped>\n",
       "    .dataframe tbody tr th:only-of-type {\n",
       "        vertical-align: middle;\n",
       "    }\n",
       "\n",
       "    .dataframe tbody tr th {\n",
       "        vertical-align: top;\n",
       "    }\n",
       "\n",
       "    .dataframe thead th {\n",
       "        text-align: right;\n",
       "    }\n",
       "</style>\n",
       "<table border=\"1\" class=\"dataframe\">\n",
       "  <thead>\n",
       "    <tr style=\"text-align: right;\">\n",
       "      <th></th>\n",
       "      <th>KH-ID</th>\n",
       "      <th>Befund</th>\n",
       "    </tr>\n",
       "  </thead>\n",
       "  <tbody>\n",
       "    <tr>\n",
       "      <th>0</th>\n",
       "      <td>1821764618</td>\n",
       "      <td>Untersuchung wurde in Bezug auf den Originalbe...</td>\n",
       "    </tr>\n",
       "    <tr>\n",
       "      <th>1</th>\n",
       "      <td>1831006618</td>\n",
       "      <td>Untersuchung wurde in Bezug auf den Originalbe...</td>\n",
       "    </tr>\n",
       "    <tr>\n",
       "      <th>2</th>\n",
       "      <td>1830446318</td>\n",
       "      <td>Untersuchung wurde in Bezug auf den Originalbe...</td>\n",
       "    </tr>\n",
       "    <tr>\n",
       "      <th>3</th>\n",
       "      <td>2348853918</td>\n",
       "      <td>Die Leistungserfassung dient lediglich der Adm...</td>\n",
       "    </tr>\n",
       "    <tr>\n",
       "      <th>4</th>\n",
       "      <td>1821190918</td>\n",
       "      <td>Thorax a.p.(Intensivstation) vom 01.12.2018 um...</td>\n",
       "    </tr>\n",
       "  </tbody>\n",
       "</table>\n",
       "</div>"
      ],
      "text/plain": [
       "        KH-ID                                             Befund\n",
       "0  1821764618  Untersuchung wurde in Bezug auf den Originalbe...\n",
       "1  1831006618  Untersuchung wurde in Bezug auf den Originalbe...\n",
       "2  1830446318  Untersuchung wurde in Bezug auf den Originalbe...\n",
       "3  2348853918  Die Leistungserfassung dient lediglich der Adm...\n",
       "4  1821190918  Thorax a.p.(Intensivstation) vom 01.12.2018 um..."
      ]
     },
     "execution_count": 16,
     "metadata": {},
     "output_type": "execute_result"
    }
   ],
   "source": [
    "measurements.to_csv(\"Dezember Januar Daten/Radiologie.csv\",sep=\";\",index=False,encoding=\"latin1\")\n",
    "enc = pd.read_csv(\"Dezember Januar Daten/Radiologie.csv\",sep=\";\",na_filter=False,encoding=\"latin1\")\n",
    "enc.head()"
   ]
  },
  {
   "cell_type": "markdown",
   "metadata": {},
   "source": [
    "MIBI 2017"
   ]
  },
  {
   "cell_type": "code",
   "execution_count": 19,
   "metadata": {},
   "outputs": [
    {
     "data": {
      "text/plain": [
       "['Dezember Januar Daten/2018_Befunde_Lev_01.txt',\n",
       " 'Dezember Januar Daten/2018_Befunde_Lev_02.txt',\n",
       " 'Dezember Januar Daten/2019_Befunde_Lev_01.txt',\n",
       " 'Dezember Januar Daten/2019_Befunde_Lev_02.txt']"
      ]
     },
     "execution_count": 19,
     "metadata": {},
     "output_type": "execute_result"
    }
   ],
   "source": [
    "mibi_path = \"Dezember Januar Daten/2018_Befunde_Lev_0\"\n",
    "mibi_dirs = [mibi_path+str(x)+\".txt\" for x in range(1,3)]\n",
    "mibi_path = \"Dezember Januar Daten/2019_Befunde_Lev_0\"\n",
    "mibi_dirs.extend([mibi_path+str(x)+\".txt\" for x in range(1,3)])\n",
    "mibi_dirs\n"
   ]
  },
  {
   "cell_type": "code",
   "execution_count": 20,
   "metadata": {},
   "outputs": [
    {
     "name": "stdout",
     "output_type": "stream",
     "text": [
      "Processing: Dezember Januar Daten/2018_Befunde_Lev_01.txt\n",
      "Processing: Dezember Januar Daten/2018_Befunde_Lev_02.txt\n",
      "Processing: Dezember Januar Daten/2019_Befunde_Lev_01.txt\n",
      "Processing: Dezember Januar Daten/2019_Befunde_Lev_02.txt\n",
      "        KH-ID                                             Befund\n",
      "0  1825275718  MVZ Leverkusen                                ...\n",
      "1  1825275718  MVZ Leverkusen                                ...\n",
      "2  1830833318  MVZ Leverkusen                                ...\n",
      "3  1830833318  MVZ Leverkusen                                ...\n",
      "4  1830833318  MVZ Leverkusen                                ...\n",
      "Wall time: 5.5 s\n"
     ]
    }
   ],
   "source": [
    "%%time\n",
    "import re\n",
    "#measurements = pd.DataFrame(columns=['ID', 'Laborkürzel', 'Messwert', 'Maßeinheit', 'Referenzbereich', 'AB-Datum/Zeit'])\n",
    "rows = []\n",
    "for d in mibi_dirs:\n",
    "    print(\"Processing: {}\".format(d))\n",
    "    with open(d,encoding=\"latin1\") as f:\n",
    "        befunde = f.read().split(\"<?xml version=\\\"1.0\\\" encoding=\\\"ISO-8859-1\\\"?>\")\n",
    "        #print(befunde[:2])\n",
    "        for befund in befunde:\n",
    "            match = re.findall(re.compile(\"<Fallnummer>\\d+</Fallnummer>\"),befund)\n",
    "            if match:\n",
    "                match = match[0].replace(\"<Fallnummer>\",\"\").replace(\"</Fallnummer>\",\"\")\n",
    "                #print(match)\n",
    "                d = dict()\n",
    "                d[\"KH-ID\"] = match\n",
    "                bef_match = re.findall(re.compile(\"<TXT>[\\S\\s]+</TXT>\"),befund)\n",
    "                #print(bef_match)\n",
    "                if bef_match:\n",
    "                    bef_match = bef_match[0].replace(\"<TXT>\",\"\").replace(\"</TXT>\",\"\").replace(\"&#xD;\",\"\").replace(\"&lt\",\"\").replace(\"&gt;\",\"\")\n",
    "                    d[\"Befund\"] = bef_match\n",
    "                    rows.append(dict(d))\n",
    "            \n",
    "measurements = pd.DataFrame(rows,columns=['KH-ID', \"Befund\"])\n",
    "print(measurements.head())"
   ]
  },
  {
   "cell_type": "code",
   "execution_count": 21,
   "metadata": {},
   "outputs": [
    {
     "data": {
      "text/html": [
       "<div>\n",
       "<style scoped>\n",
       "    .dataframe tbody tr th:only-of-type {\n",
       "        vertical-align: middle;\n",
       "    }\n",
       "\n",
       "    .dataframe tbody tr th {\n",
       "        vertical-align: top;\n",
       "    }\n",
       "\n",
       "    .dataframe thead th {\n",
       "        text-align: right;\n",
       "    }\n",
       "</style>\n",
       "<table border=\"1\" class=\"dataframe\">\n",
       "  <thead>\n",
       "    <tr style=\"text-align: right;\">\n",
       "      <th></th>\n",
       "      <th>KH-ID</th>\n",
       "      <th>Befund</th>\n",
       "    </tr>\n",
       "  </thead>\n",
       "  <tbody>\n",
       "    <tr>\n",
       "      <th>0</th>\n",
       "      <td>1825275718</td>\n",
       "      <td>MVZ Leverkusen                                ...</td>\n",
       "    </tr>\n",
       "    <tr>\n",
       "      <th>1</th>\n",
       "      <td>1825275718</td>\n",
       "      <td>MVZ Leverkusen                                ...</td>\n",
       "    </tr>\n",
       "    <tr>\n",
       "      <th>2</th>\n",
       "      <td>1830833318</td>\n",
       "      <td>MVZ Leverkusen                                ...</td>\n",
       "    </tr>\n",
       "    <tr>\n",
       "      <th>3</th>\n",
       "      <td>1830833318</td>\n",
       "      <td>MVZ Leverkusen                                ...</td>\n",
       "    </tr>\n",
       "    <tr>\n",
       "      <th>4</th>\n",
       "      <td>1830833318</td>\n",
       "      <td>MVZ Leverkusen                                ...</td>\n",
       "    </tr>\n",
       "  </tbody>\n",
       "</table>\n",
       "</div>"
      ],
      "text/plain": [
       "        KH-ID                                             Befund\n",
       "0  1825275718  MVZ Leverkusen                                ...\n",
       "1  1825275718  MVZ Leverkusen                                ...\n",
       "2  1830833318  MVZ Leverkusen                                ...\n",
       "3  1830833318  MVZ Leverkusen                                ...\n",
       "4  1830833318  MVZ Leverkusen                                ..."
      ]
     },
     "execution_count": 21,
     "metadata": {},
     "output_type": "execute_result"
    }
   ],
   "source": [
    "measurements.to_csv(\"Dezember Januar Daten/Mikrobilogie.csv\",sep=\";\",index=False,encoding=\"latin1\")\n",
    "enc = pd.read_csv(\"Dezember Januar Daten/Mikrobilogie.csv\",sep=\";\",na_filter=False,encoding=\"latin1\")\n",
    "enc.head()"
   ]
  },
  {
   "cell_type": "markdown",
   "metadata": {},
   "source": [
    "## lab 2018"
   ]
  },
  {
   "cell_type": "code",
   "execution_count": 6,
   "metadata": {
    "scrolled": true
   },
   "outputs": [
    {
     "data": {
      "text/plain": [
       "['2018/OSM_Q1_01.txt',\n",
       " '2018/OSM_Q1_02.txt',\n",
       " '2018/OSM_Q1_03.txt',\n",
       " '2018/OSM_Q1_04.txt',\n",
       " '2018/OSM_Q1_05.txt',\n",
       " '2018/OSM_Q1_06.txt',\n",
       " '2018/OSM_Q1_07.txt',\n",
       " '2018/OSM_Q1_08.txt',\n",
       " '2018/OSM_Q1_09.txt',\n",
       " '2018/OSM_Q1_10.txt',\n",
       " '2018/OSM_Q1_11.txt',\n",
       " '2018/OSM_Q1_12.txt',\n",
       " '2018/OSM_Q1_13.txt',\n",
       " '2018/OSM_Q1_14.txt',\n",
       " '2018/OSM_Q1_15.txt',\n",
       " '2018/OSM_Q2_01.txt',\n",
       " '2018/OSM_Q2_02.txt',\n",
       " '2018/OSM_Q2_03.txt',\n",
       " '2018/OSM_Q2_04.txt',\n",
       " '2018/OSM_Q2_05.txt',\n",
       " '2018/OSM_Q2_06.txt',\n",
       " '2018/OSM_Q2_07.txt',\n",
       " '2018/OSM_Q2_08.txt',\n",
       " '2018/OSM_Q2_09.txt',\n",
       " '2018/OSM_Q2_10.txt',\n",
       " '2018/OSM_Q2_11.txt',\n",
       " '2018/OSM_Q2_12.txt',\n",
       " '2018/OSM_Q2_13.txt',\n",
       " '2018/OSM_Q2_14.txt',\n",
       " '2018/OSM_Q2_15.txt',\n",
       " '2018/OSM_Q3_01.txt',\n",
       " '2018/OSM_Q3_02.txt',\n",
       " '2018/OSM_Q3_03.txt',\n",
       " '2018/OSM_Q3_04.txt',\n",
       " '2018/OSM_Q3_05.txt',\n",
       " '2018/OSM_Q3_06.txt',\n",
       " '2018/OSM_Q3_07.txt',\n",
       " '2018/OSM_Q3_08.txt',\n",
       " '2018/OSM_Q3_09.txt',\n",
       " '2018/OSM_Q3_10.txt',\n",
       " '2018/OSM_Q3_11.txt',\n",
       " '2018/OSM_Q3_12.txt',\n",
       " '2018/OSM_Q3_13.txt',\n",
       " '2018/OSM_Q3_14.txt']"
      ]
     },
     "execution_count": 6,
     "metadata": {},
     "output_type": "execute_result"
    }
   ],
   "source": [
    "lab_path = \"2018/OSM_Q1_0\"\n",
    "lab_dirs = [lab_path+str(x)+\".txt\" for x in range(1,10)]\n",
    "lab_path = \"2018/OSM_Q1_\"\n",
    "lab_dirs.extend([lab_path+str(x)+\".txt\" for x in range(10,16)])\n",
    "lab_path = \"2018/OSM_Q2_0\"\n",
    "lab_dirs.extend([lab_path+str(x)+\".txt\" for x in range(1,10)])\n",
    "lab_path = \"2018/OSM_Q2_\"\n",
    "lab_dirs.extend([lab_path+str(x)+\".txt\" for x in range(10,16)])\n",
    "lab_path = \"2018/OSM_Q3_0\"\n",
    "lab_dirs.extend([lab_path+str(x)+\".txt\" for x in range(1,10)])\n",
    "lab_path = \"2018/OSM_Q3_\"\n",
    "lab_dirs.extend([lab_path+str(x)+\".txt\" for x in range(10,15)])\n",
    "lab_dirs"
   ]
  },
  {
   "cell_type": "code",
   "execution_count": 18,
   "metadata": {
    "scrolled": true
   },
   "outputs": [
    {
     "name": "stdout",
     "output_type": "stream",
     "text": [
      "Processing: 2018/OSM_Q1_01.txt\n",
      "Processing: 2018/OSM_Q1_02.txt\n",
      "Processing: 2018/OSM_Q1_03.txt\n",
      "Processing: 2018/OSM_Q1_04.txt\n",
      "Processing: 2018/OSM_Q1_05.txt\n",
      "Processing: 2018/OSM_Q1_06.txt\n",
      "Processing: 2018/OSM_Q1_07.txt\n",
      "Processing: 2018/OSM_Q1_08.txt\n",
      "Processing: 2018/OSM_Q1_09.txt\n",
      "Processing: 2018/OSM_Q1_10.txt\n",
      "Processing: 2018/OSM_Q1_11.txt\n",
      "Processing: 2018/OSM_Q1_12.txt\n",
      "Processing: 2018/OSM_Q1_13.txt\n",
      "Processing: 2018/OSM_Q1_14.txt\n",
      "Processing: 2018/OSM_Q1_15.txt\n",
      "Processing: 2018/OSM_Q2_01.txt\n",
      "Processing: 2018/OSM_Q2_02.txt\n",
      "Processing: 2018/OSM_Q2_03.txt\n",
      "Processing: 2018/OSM_Q2_04.txt\n",
      "Processing: 2018/OSM_Q2_05.txt\n",
      "Processing: 2018/OSM_Q2_06.txt\n",
      "Processing: 2018/OSM_Q2_07.txt\n",
      "Processing: 2018/OSM_Q2_08.txt\n",
      "Processing: 2018/OSM_Q2_09.txt\n",
      "Processing: 2018/OSM_Q2_10.txt\n",
      "Processing: 2018/OSM_Q2_11.txt\n",
      "Processing: 2018/OSM_Q2_12.txt\n",
      "Processing: 2018/OSM_Q2_13.txt\n",
      "Processing: 2018/OSM_Q2_14.txt\n",
      "Processing: 2018/OSM_Q2_15.txt\n",
      "Processing: 2018/OSM_Q3_01.txt\n",
      "Processing: 2018/OSM_Q3_02.txt\n",
      "Processing: 2018/OSM_Q3_03.txt\n",
      "Processing: 2018/OSM_Q3_04.txt\n",
      "Processing: 2018/OSM_Q3_05.txt\n",
      "Processing: 2018/OSM_Q3_06.txt\n",
      "Processing: 2018/OSM_Q3_07.txt\n",
      "Processing: 2018/OSM_Q3_08.txt\n",
      "Processing: 2018/OSM_Q3_09.txt\n",
      "Processing: 2018/OSM_Q3_10.txt\n",
      "Processing: 2018/OSM_Q3_11.txt\n",
      "Processing: 2018/OSM_Q3_12.txt\n",
      "Processing: 2018/OSM_Q3_13.txt\n",
      "Processing: 2018/OSM_Q3_14.txt\n",
      "        KH-ID Laborkürzel Messwert Masseinheit Referenzbereich         Datum\n",
      "0  1759645417        LEUK     10.6     10^3/µl       3.5 - 9.8  201712312354\n",
      "1  1759645417         ERY     3.91     10^6/µl       4.1 - 5.1  201712312354\n",
      "2  1759645417          HB     12.0        g/dl     12.0 - 16.0  201712312354\n",
      "3  1759645417          HK     34.6           %         36 - 48  201712312354\n",
      "4  1759645417         MCV     88.5          fl         80 - 96  201712312354\n",
      "['10^3/µl' '10^6/µl' 'g/dl' '%' 'fl' 'pg' 'mmol/l' 'u/l' 'mg/dl' 'ml/min'\n",
      " '' 'mmhg' 'sec' 'mg/l' 'ng/l' 'ng/ml' 'miu/ml' 'µiu/ml' 'ng/dl' 'o/oo'\n",
      " 'g/l' 'µg/dl' 'pg/ml' 'µg/ml' 'µg/l' 'u/ml' '/µl' 'ie/l' 'mg/24h'\n",
      " 'mmol/24h' 'g/24h' 'min']\n",
      "Wall time: 22min 42s\n"
     ]
    }
   ],
   "source": [
    "%%time\n",
    "#measurements = pd.DataFrame(columns=['ID', 'Laborkürzel', 'Messwert', 'Maßeinheit', 'Referenzbereich', 'AB-Datum/Zeit'])\n",
    "rows = []\n",
    "for d in lab_dirs:\n",
    "    print(\"Processing: {}\".format(d))\n",
    "    with open(d) as f:\n",
    "        sample_count = 0\n",
    "        for msg in f:\n",
    "            if sample_count==1000:\n",
    "                break\n",
    "            #sample_count +=1\n",
    "            #print(msg)\n",
    "            segments = msg.replace(\"\\S\\\\\",\"^\").replace(\"\\n\",\"\").split(\"|\")\n",
    "            #print(segments)\n",
    "            if segments[0] == \"PV1\":\n",
    "                d = dict()\n",
    "                d[\"KH-ID\"] = segments[19]\n",
    "            if segments[0] == \"OBX\":\n",
    "                        #print(segments)\n",
    "                d[\"Laborkürzel\"] = segments[3]\n",
    "                #print(segments[3])\n",
    "                d[\"Messwert\"] = segments[5]\n",
    "                d[\"Masseinheit\"] = segments[6].lower().replace(\"â\",\"\")\n",
    "                if d[\"Laborkürzel\"] in analyte_dict[\"CREA\"]:\n",
    "                    lower = float(segments[7].split(\"-\")[0].strip())\n",
    "                    upper = float(segments[7].split(\"-\")[1].strip())\n",
    "                    lower = converter_dict[\"CREA\"][d[\"Masseinheit\"]][\"µmol/l\"](lower)\n",
    "                    upper = converter_dict[\"CREA\"][d[\"Masseinheit\"]][\"µmol/l\"](upper)\n",
    "                    d[\"Referenzbereich\"] = str(round(lower,0)) + \" - \" + str(round(upper,0))\n",
    "                else:\n",
    "                    d[\"Referenzbereich\"] = segments[7]\n",
    "                   # this is inconsistent, to be improved\n",
    "                d['Datum'] = segments[-2]\n",
    "                \n",
    "                   # add measurement to dataframe\n",
    "                if not(d[\"Messwert\"] in [ '!folgt', \"!angef.\",'!storno', '!sKomm', '[n.ber]']):\n",
    "                    rows.append(dict(d))\n",
    "                    #measurements.append(pd.Series(pid, kuerzel, messwert, einheit, referenz, datum),sort=False)\n",
    "                    #i +=1\n",
    "measurements = pd.DataFrame(rows,columns=['KH-ID', 'Laborkürzel', 'Messwert', 'Masseinheit', 'Referenzbereich', 'Datum'])\n",
    "print(measurements.head())\n",
    "print(measurements[\"Masseinheit\"].unique())"
   ]
  },
  {
   "cell_type": "code",
   "execution_count": 24,
   "metadata": {},
   "outputs": [
    {
     "name": "stdout",
     "output_type": "stream",
     "text": [
      "['10^3/µl' '10^6/µl' 'g/dl' '%' 'fl' 'pg' 'mmol/l' 'u/l' 'mg/dl' 'ml/min'\n",
      " '' 'mmhg' 'sec' 'mg/l' 'ng/l' 'ng/ml' 'miu/ml' 'µiu/ml' 'ng/dl' 'o/oo'\n",
      " 'g/l' 'µg/dl' 'pg/ml' 'µg/ml' 'µg/l' 'u/ml' '/µl' 'ie/l' 'mg/24h'\n",
      " 'mmol/24h' 'g/24h' 'min']\n"
     ]
    },
    {
     "data": {
      "text/html": [
       "<div>\n",
       "<style scoped>\n",
       "    .dataframe tbody tr th:only-of-type {\n",
       "        vertical-align: middle;\n",
       "    }\n",
       "\n",
       "    .dataframe tbody tr th {\n",
       "        vertical-align: top;\n",
       "    }\n",
       "\n",
       "    .dataframe thead th {\n",
       "        text-align: right;\n",
       "    }\n",
       "</style>\n",
       "<table border=\"1\" class=\"dataframe\">\n",
       "  <thead>\n",
       "    <tr style=\"text-align: right;\">\n",
       "      <th></th>\n",
       "      <th>KH-ID</th>\n",
       "      <th>Laborkürzel</th>\n",
       "      <th>Messwert</th>\n",
       "      <th>Masseinheit</th>\n",
       "      <th>Referenzbereich</th>\n",
       "      <th>Datum</th>\n",
       "    </tr>\n",
       "  </thead>\n",
       "  <tbody>\n",
       "    <tr>\n",
       "      <th>0</th>\n",
       "      <td>1759645417</td>\n",
       "      <td>LEUK</td>\n",
       "      <td>10.6</td>\n",
       "      <td>10^3/µl</td>\n",
       "      <td>3.5 - 9.8</td>\n",
       "      <td>201712312354</td>\n",
       "    </tr>\n",
       "    <tr>\n",
       "      <th>1</th>\n",
       "      <td>1759645417</td>\n",
       "      <td>ERY</td>\n",
       "      <td>3.91</td>\n",
       "      <td>10^6/µl</td>\n",
       "      <td>4.1 - 5.1</td>\n",
       "      <td>201712312354</td>\n",
       "    </tr>\n",
       "    <tr>\n",
       "      <th>2</th>\n",
       "      <td>1759645417</td>\n",
       "      <td>HB</td>\n",
       "      <td>12.0</td>\n",
       "      <td>g/dl</td>\n",
       "      <td>12.0 - 16.0</td>\n",
       "      <td>201712312354</td>\n",
       "    </tr>\n",
       "    <tr>\n",
       "      <th>3</th>\n",
       "      <td>1759645417</td>\n",
       "      <td>HK</td>\n",
       "      <td>34.6</td>\n",
       "      <td>%</td>\n",
       "      <td>36 - 48</td>\n",
       "      <td>201712312354</td>\n",
       "    </tr>\n",
       "    <tr>\n",
       "      <th>4</th>\n",
       "      <td>1759645417</td>\n",
       "      <td>MCV</td>\n",
       "      <td>88.5</td>\n",
       "      <td>fl</td>\n",
       "      <td>80 - 96</td>\n",
       "      <td>201712312354</td>\n",
       "    </tr>\n",
       "  </tbody>\n",
       "</table>\n",
       "</div>"
      ],
      "text/plain": [
       "        KH-ID Laborkürzel Messwert Masseinheit Referenzbereich         Datum\n",
       "0  1759645417        LEUK     10.6     10^3/µl       3.5 - 9.8  201712312354\n",
       "1  1759645417         ERY     3.91     10^6/µl       4.1 - 5.1  201712312354\n",
       "2  1759645417          HB     12.0        g/dl     12.0 - 16.0  201712312354\n",
       "3  1759645417          HK     34.6           %         36 - 48  201712312354\n",
       "4  1759645417         MCV     88.5          fl         80 - 96  201712312354"
      ]
     },
     "execution_count": 24,
     "metadata": {},
     "output_type": "execute_result"
    }
   ],
   "source": [
    "measurements.to_csv(\"2018/Labor_Q1-Q3_LDK.csv\",sep=\";\",index=False,encoding=\"utf8\")\n",
    "enc = pd.read_csv(\"2018/Labor_Q1-Q3_LDK.csv\",sep=\";\",na_filter=False,encoding=\"utf8\",dtype={\"KH-ID\":str})\n",
    "print(enc[\"Masseinheit\"].unique())\n",
    "enc.head()"
   ]
  },
  {
   "cell_type": "code",
   "execution_count": 9,
   "metadata": {
    "scrolled": true
   },
   "outputs": [
    {
     "name": "stdout",
     "output_type": "stream",
     "text": [
      "['10^3/µl' '10^6/µl' 'g/dl' '%' 'fl' 'pg' 'mmol/l' 'u/l' 'mg/dl' 'ml/min'\n",
      " '' 'mmhg' 'sec' 'mg/l' 'ng/l' 'ng/ml' 'miu/ml' 'µiu/ml' 'ng/dl' 'o/oo'\n",
      " 'g/l' 'µg/dl' 'pg/ml' 'µg/ml' 'µg/l' 'u/ml' '/µl' 'ie/l' 'mg/24h'\n",
      " 'mmol/24h' 'g/24h' 'min']\n"
     ]
    }
   ],
   "source": [
    "# encoding mit notepad geändert\n",
    "measurements = pd.read_csv(\"2018/Labor_Q1-Q3_LDK.csv\",sep=\";\",na_filter=False,encoding=\"latin1\",dtype={\"KH-ID\":str})\n",
    "measurements.head()\n",
    "print(measurements[\"Masseinheit\"].unique())"
   ]
  },
  {
   "cell_type": "markdown",
   "metadata": {},
   "source": [
    "RIS 2018"
   ]
  },
  {
   "cell_type": "code",
   "execution_count": 3,
   "metadata": {},
   "outputs": [
    {
     "data": {
      "text/plain": [
       "['2018/RIS_Q1_01.txt',\n",
       " '2018/RIS_Q1_02.txt',\n",
       " '2018/RIS_Q2_01.txt',\n",
       " '2018/RIS_Q2_02.txt',\n",
       " '2018/RIS_Q3_01.txt',\n",
       " '2018/RIS_01.txt']"
      ]
     },
     "execution_count": 3,
     "metadata": {},
     "output_type": "execute_result"
    }
   ],
   "source": [
    "ris_path = \"2018/RIS_Q1_0\"\n",
    "ris_dirs = [ris_path+str(x)+\".txt\" for x in range(1,3)]\n",
    "ris_path = \"2018/RIS_Q2_0\"\n",
    "ris_dirs.extend([ris_path+str(x)+\".txt\" for x in range(1,3)])\n",
    "ris_path = \"2018/RIS_Q3_0\"\n",
    "ris_dirs.extend([ris_path+str(x)+\".txt\" for x in range(1,2)])\n",
    "ris_path = \"2018/RIS_0\"\n",
    "ris_dirs.extend([ris_path+str(x)+\".txt\" for x in range(1,2)])\n",
    "ris_dirs\n",
    "\n"
   ]
  },
  {
   "cell_type": "code",
   "execution_count": 6,
   "metadata": {},
   "outputs": [
    {
     "name": "stdout",
     "output_type": "stream",
     "text": [
      "Processing: 2018/RIS_Q1_01.txt\n",
      "Processing: 2018/RIS_Q1_02.txt\n",
      "Processing: 2018/RIS_Q2_01.txt\n",
      "Processing: 2018/RIS_Q2_02.txt\n",
      "Processing: 2018/RIS_Q3_01.txt\n",
      "Processing: 2018/RIS_01.txt\n",
      "        KH-ID                                             Befund\n",
      "0  1757056817  Thorax a.p.(Intensivstation) vom 01.01.2018 um...\n",
      "1  1758796017  Thorax a.p.(Intensivstation) vom 01.01.2018 um...\n",
      "2  1758908517  Thorax a.p.(Intensivstation) vom 01.01.2018 um...\n",
      "3  1743963017  CT- Abdomen nach KM vom 12.12.2017 um 09:27 Uh...\n",
      "4  1755521317  CT- Abdomen nach KM vom 10.12.2017 um 11:04 Uh...\n",
      "Wall time: 5.68 s\n"
     ]
    }
   ],
   "source": [
    "%%time\n",
    "#measurements = pd.DataFrame(columns=['ID', 'Laborkürzel', 'Messwert', 'Maßeinheit', 'Referenzbereich', 'AB-Datum/Zeit'])\n",
    "rows = []\n",
    "for d in ris_dirs:\n",
    "    print(\"Processing: {}\".format(d))\n",
    "    with open(d,encoding=\"latin1\") as f:\n",
    "        sample_count = 0\n",
    "        for msg in f:\n",
    "            if sample_count==100:\n",
    "                break\n",
    "            #sample_count +=1\n",
    "            #print(msg)\n",
    "            segments = msg.replace(\"\\\\.in+0\\\\\",\"\").replace(\"\\\\.in-0\\\\\",\"\").replace(\"\\\\.br\\\\\",\"\").split(\"|\")\n",
    "            #print(segments)\n",
    "            if segments[0] == \"PV1\":\n",
    "                d = dict()\n",
    "                d[\"KH-ID\"] = segments[19]\n",
    "            if segments[0] == \"OBX\":\n",
    "                d[\"Befund\"] = segments[5]\n",
    "                if segments[5] not in [\"Vorabbefund nur für Bildaufruf\",\"\",\" \",\"Befundung und Bildarchivierung im jeweiligen Subsystem. \",\"Die Befundung erfolgt im System der Urologischen Gemeinschaftspraxis. \",\"Untersuchung wurde in Bezug auf den Originalbefund demonstriert. \",\"Bildarchivierung und Befundung im jeweiligen Subsystem. \"]:\n",
    "                    rows.append(dict(d))\n",
    "                \n",
    "measurements = pd.DataFrame(rows,columns=['KH-ID', \"Befund\"])\n",
    "print(measurements.head())"
   ]
  },
  {
   "cell_type": "code",
   "execution_count": 7,
   "metadata": {},
   "outputs": [
    {
     "data": {
      "text/html": [
       "<div>\n",
       "<style scoped>\n",
       "    .dataframe tbody tr th:only-of-type {\n",
       "        vertical-align: middle;\n",
       "    }\n",
       "\n",
       "    .dataframe tbody tr th {\n",
       "        vertical-align: top;\n",
       "    }\n",
       "\n",
       "    .dataframe thead th {\n",
       "        text-align: right;\n",
       "    }\n",
       "</style>\n",
       "<table border=\"1\" class=\"dataframe\">\n",
       "  <thead>\n",
       "    <tr style=\"text-align: right;\">\n",
       "      <th></th>\n",
       "      <th>KH-ID</th>\n",
       "      <th>Befund</th>\n",
       "    </tr>\n",
       "  </thead>\n",
       "  <tbody>\n",
       "    <tr>\n",
       "      <th>0</th>\n",
       "      <td>1757056817</td>\n",
       "      <td>Thorax a.p.(Intensivstation) vom 01.01.2018 um...</td>\n",
       "    </tr>\n",
       "    <tr>\n",
       "      <th>1</th>\n",
       "      <td>1758796017</td>\n",
       "      <td>Thorax a.p.(Intensivstation) vom 01.01.2018 um...</td>\n",
       "    </tr>\n",
       "    <tr>\n",
       "      <th>2</th>\n",
       "      <td>1758908517</td>\n",
       "      <td>Thorax a.p.(Intensivstation) vom 01.01.2018 um...</td>\n",
       "    </tr>\n",
       "    <tr>\n",
       "      <th>3</th>\n",
       "      <td>1743963017</td>\n",
       "      <td>CT- Abdomen nach KM vom 12.12.2017 um 09:27 Uh...</td>\n",
       "    </tr>\n",
       "    <tr>\n",
       "      <th>4</th>\n",
       "      <td>1755521317</td>\n",
       "      <td>CT- Abdomen nach KM vom 10.12.2017 um 11:04 Uh...</td>\n",
       "    </tr>\n",
       "  </tbody>\n",
       "</table>\n",
       "</div>"
      ],
      "text/plain": [
       "        KH-ID                                             Befund\n",
       "0  1757056817  Thorax a.p.(Intensivstation) vom 01.01.2018 um...\n",
       "1  1758796017  Thorax a.p.(Intensivstation) vom 01.01.2018 um...\n",
       "2  1758908517  Thorax a.p.(Intensivstation) vom 01.01.2018 um...\n",
       "3  1743963017  CT- Abdomen nach KM vom 12.12.2017 um 09:27 Uh...\n",
       "4  1755521317  CT- Abdomen nach KM vom 10.12.2017 um 11:04 Uh..."
      ]
     },
     "execution_count": 7,
     "metadata": {},
     "output_type": "execute_result"
    }
   ],
   "source": [
    "measurements.to_csv(\"2018/RIS_Q1-Q3_LDK.csv\",sep=\";\",index=False,encoding=\"latin1\")\n",
    "enc = pd.read_csv(\"2018/RIS_Q1-Q3_LDK.csv\",sep=\";\",na_filter=False,encoding=\"latin1\")\n",
    "enc.head()"
   ]
  },
  {
   "cell_type": "markdown",
   "metadata": {},
   "source": [
    "Pathologie 2018"
   ]
  },
  {
   "cell_type": "code",
   "execution_count": 13,
   "metadata": {},
   "outputs": [
    {
     "data": {
      "text/plain": [
       "['2018/PATHO_Q1_01.txt',\n",
       " '2018/PATHO_Q1_02.txt',\n",
       " '2018/PATHO_Q2_01.txt',\n",
       " '2018/PATHO_Q2_02.txt',\n",
       " '2018/PATHO_Q2_03.txt',\n",
       " '2018/PATHO_Q2_04.txt',\n",
       " '2018/PATHO_Q2_05.txt',\n",
       " '2018/PATHO_Q2_06.txt',\n",
       " '2018/PATHO_Q2_07.txt',\n",
       " '2018/PATHO_Q2_08.txt',\n",
       " '2018/PATHO_Q2_09.txt',\n",
       " '2018/PATHO_Q3_01.txt',\n",
       " '2018/PATHO_Q3_02.txt',\n",
       " '2018/PATHO_Q3_03.txt',\n",
       " '2018/PATHO_Q3_04.txt',\n",
       " '2018/PATHO_Q3_05.txt',\n",
       " '2018/PATHO_Q3_06.txt',\n",
       " '2018/PATHO_Q3_07.txt',\n",
       " '2018/PATHO_Q3_08.txt',\n",
       " '2018/PATHO_Q3_09.txt',\n",
       " '2018/PATHO_Q3_10.txt',\n",
       " '2018/PATHO_Q3_11.txt',\n",
       " '2018/PATHO_Q3_12.txt',\n",
       " '2018/PATHO_Q3_13.txt',\n",
       " '2018/PATHO_Q3_14.txt']"
      ]
     },
     "execution_count": 13,
     "metadata": {},
     "output_type": "execute_result"
    }
   ],
   "source": [
    "patho_path = \"2018/PATHO_Q1_0\"\n",
    "patho_dirs = [patho_path+str(x)+\".txt\" for x in range(1,3)]\n",
    "patho_path = \"2018/PATHO_Q2_0\"\n",
    "patho_dirs.extend([patho_path+str(x)+\".txt\" for x in range(1,10)])\n",
    "patho_path = \"2018/PATHO_Q3_0\"\n",
    "patho_dirs.extend([patho_path+str(x)+\".txt\" for x in range(1,10)])\n",
    "patho_path = \"2018/PATHO_Q3_\"\n",
    "patho_dirs.extend([patho_path+str(x)+\".txt\" for x in range(10,15)])\n",
    "patho_dirs\n",
    "# NUR PATHO_Q1_X sind korrekt und im xml format"
   ]
  },
  {
   "cell_type": "code",
   "execution_count": 14,
   "metadata": {
    "scrolled": false
   },
   "outputs": [
    {
     "name": "stdout",
     "output_type": "stream",
     "text": [
      "Processing: 2018/PATHO_Q1_01.txt\n",
      "Processing: 2018/PATHO_Q1_02.txt\n",
      "Processing: 2018/PATHO_Q2_01.txt\n",
      "Processing: 2018/PATHO_Q2_02.txt\n",
      "Processing: 2018/PATHO_Q2_03.txt\n",
      "Processing: 2018/PATHO_Q2_04.txt\n",
      "Processing: 2018/PATHO_Q2_05.txt\n",
      "Processing: 2018/PATHO_Q2_06.txt\n",
      "Processing: 2018/PATHO_Q2_07.txt\n",
      "Processing: 2018/PATHO_Q2_08.txt\n",
      "Processing: 2018/PATHO_Q2_09.txt\n",
      "Processing: 2018/PATHO_Q3_01.txt\n",
      "Processing: 2018/PATHO_Q3_02.txt\n",
      "Processing: 2018/PATHO_Q3_03.txt\n",
      "Processing: 2018/PATHO_Q3_04.txt\n",
      "Processing: 2018/PATHO_Q3_05.txt\n",
      "Processing: 2018/PATHO_Q3_06.txt\n",
      "Processing: 2018/PATHO_Q3_07.txt\n",
      "Processing: 2018/PATHO_Q3_08.txt\n",
      "Processing: 2018/PATHO_Q3_09.txt\n",
      "Processing: 2018/PATHO_Q3_10.txt\n",
      "Processing: 2018/PATHO_Q3_11.txt\n",
      "Processing: 2018/PATHO_Q3_12.txt\n",
      "Processing: 2018/PATHO_Q3_13.txt\n",
      "Processing: 2018/PATHO_Q3_14.txt\n",
      "        KH-ID                                             Befund\n",
      "0  1759167317  Pathologie                                    ...\n",
      "1  1745989017  Pathologie                                    ...\n",
      "2  1758672317  Pathologie                                    ...\n",
      "3  1759097517  Pathologie                                    ...\n",
      "4  1758484417  Pathologie                                    ...\n",
      "Wall time: 19.3 s\n"
     ]
    }
   ],
   "source": [
    "%%time\n",
    "import re\n",
    "#measurements = pd.DataFrame(columns=['ID', 'Laborkürzel', 'Messwert', 'Maßeinheit', 'Referenzbereich', 'AB-Datum/Zeit'])\n",
    "rows = []\n",
    "for d in patho_dirs:\n",
    "    print(\"Processing: {}\".format(d))\n",
    "    with open(d,encoding=\"latin1\") as f:\n",
    "        befunde = f.read().split(\"<?xml version=\\\"1.0\\\" encoding=\\\"ISO-8859-1\\\"?>\")\n",
    "        #print(befunde[:2])\n",
    "        for befund in befunde:\n",
    "            match = re.findall(re.compile(\"<Fallnummer>\\d+</Fallnummer>\"),befund)\n",
    "            if match:\n",
    "                match = match[0].replace(\"<Fallnummer>\",\"\").replace(\"</Fallnummer>\",\"\")\n",
    "                #print(match)\n",
    "                d = dict()\n",
    "                d[\"KH-ID\"] = match\n",
    "                bef_match = re.findall(re.compile(\"<TXT>[\\S\\s]+</TXT>\"),befund)\n",
    "                #print(bef_match)\n",
    "                if bef_match:\n",
    "                    bef_match = bef_match[0].replace(\"<TXT>\",\"\").replace(\"</TXT>\",\"\").replace(\"&#xD;\",\"\").replace(\"&lt\",\"\").replace(\"&gt;\",\"\")\n",
    "                    d[\"Befund\"] = bef_match\n",
    "                    rows.append(dict(d))\n",
    "            \n",
    "measurements = pd.DataFrame(rows,columns=['KH-ID', \"Befund\"])\n",
    "print(measurements.head())"
   ]
  },
  {
   "cell_type": "code",
   "execution_count": 15,
   "metadata": {},
   "outputs": [
    {
     "data": {
      "text/html": [
       "<div>\n",
       "<style scoped>\n",
       "    .dataframe tbody tr th:only-of-type {\n",
       "        vertical-align: middle;\n",
       "    }\n",
       "\n",
       "    .dataframe tbody tr th {\n",
       "        vertical-align: top;\n",
       "    }\n",
       "\n",
       "    .dataframe thead th {\n",
       "        text-align: right;\n",
       "    }\n",
       "</style>\n",
       "<table border=\"1\" class=\"dataframe\">\n",
       "  <thead>\n",
       "    <tr style=\"text-align: right;\">\n",
       "      <th></th>\n",
       "      <th>KH-ID</th>\n",
       "      <th>Befund</th>\n",
       "    </tr>\n",
       "  </thead>\n",
       "  <tbody>\n",
       "    <tr>\n",
       "      <th>0</th>\n",
       "      <td>1759167317</td>\n",
       "      <td>Pathologie                                    ...</td>\n",
       "    </tr>\n",
       "    <tr>\n",
       "      <th>1</th>\n",
       "      <td>1745989017</td>\n",
       "      <td>Pathologie                                    ...</td>\n",
       "    </tr>\n",
       "    <tr>\n",
       "      <th>2</th>\n",
       "      <td>1758672317</td>\n",
       "      <td>Pathologie                                    ...</td>\n",
       "    </tr>\n",
       "    <tr>\n",
       "      <th>3</th>\n",
       "      <td>1759097517</td>\n",
       "      <td>Pathologie                                    ...</td>\n",
       "    </tr>\n",
       "    <tr>\n",
       "      <th>4</th>\n",
       "      <td>1758484417</td>\n",
       "      <td>Pathologie                                    ...</td>\n",
       "    </tr>\n",
       "  </tbody>\n",
       "</table>\n",
       "</div>"
      ],
      "text/plain": [
       "        KH-ID                                             Befund\n",
       "0  1759167317  Pathologie                                    ...\n",
       "1  1745989017  Pathologie                                    ...\n",
       "2  1758672317  Pathologie                                    ...\n",
       "3  1759097517  Pathologie                                    ...\n",
       "4  1758484417  Pathologie                                    ..."
      ]
     },
     "execution_count": 15,
     "metadata": {},
     "output_type": "execute_result"
    }
   ],
   "source": [
    "measurements.to_csv(\"2018/PATHO_Q1-Q3_LDK.csv\",sep=\";\",index=False,encoding=\"latin1\")\n",
    "enc = pd.read_csv(\"2018/PATHO_Q1-Q3_LDK.csv\",sep=\";\",na_filter=False,encoding=\"latin1\")\n",
    "enc.head()"
   ]
  },
  {
   "cell_type": "markdown",
   "metadata": {},
   "source": [
    "## MIBI 2018"
   ]
  },
  {
   "cell_type": "code",
   "execution_count": 17,
   "metadata": {},
   "outputs": [
    {
     "data": {
      "text/plain": [
       "['2018/LEV_OKT_01.txt',\n",
       " '2018/LEV_Q1_01.txt',\n",
       " '2018/LEV_Q1_02.txt',\n",
       " '2018/LEV_Q2_01.txt',\n",
       " '2018/LEV_Q2_02.txt',\n",
       " '2018/LEV_Q3_01.txt',\n",
       " '2018/LEV_Q3_02.txt',\n",
       " '2018/LEV_Q3_03.txt']"
      ]
     },
     "execution_count": 17,
     "metadata": {},
     "output_type": "execute_result"
    }
   ],
   "source": [
    "mibi_path = \"2018/LEV_OKT_0\"\n",
    "mibi_dirs = [mibi_path+str(x)+\".txt\" for x in range(1,2)]\n",
    "mibi_path = \"2018/LEV_Q1_0\"\n",
    "mibi_dirs.extend([mibi_path+str(x)+\".txt\" for x in range(1,3)])\n",
    "mibi_path = \"2018/LEV_Q2_0\"\n",
    "mibi_dirs.extend([mibi_path+str(x)+\".txt\" for x in range(1,3)])\n",
    "mibi_path = \"2018/LEV_Q3_0\"\n",
    "mibi_dirs.extend([mibi_path+str(x)+\".txt\" for x in range(1,4)])\n",
    "mibi_dirs\n"
   ]
  },
  {
   "cell_type": "code",
   "execution_count": 18,
   "metadata": {},
   "outputs": [
    {
     "name": "stdout",
     "output_type": "stream",
     "text": [
      "Processing: 2018/LEV_OKT_01.txt\n",
      "Processing: 2018/LEV_Q1_01.txt\n",
      "Processing: 2018/LEV_Q1_02.txt\n",
      "Processing: 2018/LEV_Q2_01.txt\n",
      "Processing: 2018/LEV_Q2_02.txt\n",
      "Processing: 2018/LEV_Q3_01.txt\n",
      "Processing: 2018/LEV_Q3_02.txt\n",
      "Processing: 2018/LEV_Q3_03.txt\n",
      "        KH-ID                                             Befund\n",
      "0  1813924518  MVZ Leverkusen                                ...\n",
      "1  1813924518  MVZ Leverkusen                                ...\n",
      "2  1817983418  MVZ Leverkusen                                ...\n",
      "3  1818192718  MVZ Leverkusen                                ...\n",
      "4  1818192718  MVZ Leverkusen                                ...\n",
      "Wall time: 19.7 s\n"
     ]
    }
   ],
   "source": [
    "%%time\n",
    "import re\n",
    "#measurements = pd.DataFrame(columns=['ID', 'Laborkürzel', 'Messwert', 'Maßeinheit', 'Referenzbereich', 'AB-Datum/Zeit'])\n",
    "rows = []\n",
    "for d in mibi_dirs:\n",
    "    print(\"Processing: {}\".format(d))\n",
    "    with open(d,encoding=\"latin1\") as f:\n",
    "        befunde = f.read().split(\"<?xml version=\\\"1.0\\\" encoding=\\\"ISO-8859-1\\\"?>\")\n",
    "        #print(befunde[:2])\n",
    "        for befund in befunde:\n",
    "            match = re.findall(re.compile(\"<Fallnummer>\\d+</Fallnummer>\"),befund)\n",
    "            if match:\n",
    "                match = match[0].replace(\"<Fallnummer>\",\"\").replace(\"</Fallnummer>\",\"\")\n",
    "                #print(match)\n",
    "                d = dict()\n",
    "                d[\"KH-ID\"] = match\n",
    "                bef_match = re.findall(re.compile(\"<TXT>[\\S\\s]+</TXT>\"),befund)\n",
    "                #print(bef_match)\n",
    "                if bef_match:\n",
    "                    bef_match = bef_match[0].replace(\"<TXT>\",\"\").replace(\"</TXT>\",\"\").replace(\"&#xD;\",\"\").replace(\"&lt\",\"\").replace(\"&gt;\",\"\")\n",
    "                    d[\"Befund\"] = bef_match\n",
    "                    rows.append(dict(d))\n",
    "            \n",
    "measurements = pd.DataFrame(rows,columns=['KH-ID', \"Befund\"])\n",
    "print(measurements.head())"
   ]
  },
  {
   "cell_type": "code",
   "execution_count": 19,
   "metadata": {},
   "outputs": [
    {
     "data": {
      "text/html": [
       "<div>\n",
       "<style scoped>\n",
       "    .dataframe tbody tr th:only-of-type {\n",
       "        vertical-align: middle;\n",
       "    }\n",
       "\n",
       "    .dataframe tbody tr th {\n",
       "        vertical-align: top;\n",
       "    }\n",
       "\n",
       "    .dataframe thead th {\n",
       "        text-align: right;\n",
       "    }\n",
       "</style>\n",
       "<table border=\"1\" class=\"dataframe\">\n",
       "  <thead>\n",
       "    <tr style=\"text-align: right;\">\n",
       "      <th></th>\n",
       "      <th>KH-ID</th>\n",
       "      <th>Befund</th>\n",
       "    </tr>\n",
       "  </thead>\n",
       "  <tbody>\n",
       "    <tr>\n",
       "      <th>0</th>\n",
       "      <td>1813924518</td>\n",
       "      <td>MVZ Leverkusen                                ...</td>\n",
       "    </tr>\n",
       "    <tr>\n",
       "      <th>1</th>\n",
       "      <td>1813924518</td>\n",
       "      <td>MVZ Leverkusen                                ...</td>\n",
       "    </tr>\n",
       "    <tr>\n",
       "      <th>2</th>\n",
       "      <td>1817983418</td>\n",
       "      <td>MVZ Leverkusen                                ...</td>\n",
       "    </tr>\n",
       "    <tr>\n",
       "      <th>3</th>\n",
       "      <td>1818192718</td>\n",
       "      <td>MVZ Leverkusen                                ...</td>\n",
       "    </tr>\n",
       "    <tr>\n",
       "      <th>4</th>\n",
       "      <td>1818192718</td>\n",
       "      <td>MVZ Leverkusen                                ...</td>\n",
       "    </tr>\n",
       "  </tbody>\n",
       "</table>\n",
       "</div>"
      ],
      "text/plain": [
       "        KH-ID                                             Befund\n",
       "0  1813924518  MVZ Leverkusen                                ...\n",
       "1  1813924518  MVZ Leverkusen                                ...\n",
       "2  1817983418  MVZ Leverkusen                                ...\n",
       "3  1818192718  MVZ Leverkusen                                ...\n",
       "4  1818192718  MVZ Leverkusen                                ..."
      ]
     },
     "execution_count": 19,
     "metadata": {},
     "output_type": "execute_result"
    }
   ],
   "source": [
    "measurements.to_csv(\"2018/MIBI_Q1-Q3_LDK.csv\",sep=\";\",index=False,encoding=\"latin1\")\n",
    "enc = pd.read_csv(\"2018/MIBI_Q1-Q3_LDK.csv\",sep=\";\",na_filter=False,encoding=\"latin1\")\n",
    "enc.head()"
   ]
  },
  {
   "cell_type": "code",
   "execution_count": null,
   "metadata": {},
   "outputs": [],
   "source": []
  }
 ],
 "metadata": {
  "kernelspec": {
   "display_name": "Python 3",
   "language": "python",
   "name": "python3"
  },
  "language_info": {
   "codemirror_mode": {
    "name": "ipython",
    "version": 3
   },
   "file_extension": ".py",
   "mimetype": "text/x-python",
   "name": "python",
   "nbconvert_exporter": "python",
   "pygments_lexer": "ipython3",
   "version": "3.7.1"
  },
  "widgets": {
   "state": {
    "011d938ff3204b578e0306d25ec839b8": {
     "views": [
      {
       "cell_index": 6
      }
     ]
    },
    "0344c3b3cbd647ffa351ed755b977f47": {
     "views": [
      {
       "cell_index": 6
      }
     ]
    },
    "0c43c5aa21564ac99e583e9c88bb2bd3": {
     "views": [
      {
       "cell_index": 6
      }
     ]
    },
    "143f747ff9d74180bae038bf6591fe24": {
     "views": [
      {
       "cell_index": 6
      }
     ]
    },
    "1dce75e501a5456ab4586a9ecf0677ec": {
     "views": [
      {
       "cell_index": 6
      }
     ]
    },
    "25549ab6a952472d85b74b3a9369dd6c": {
     "views": [
      {
       "cell_index": 6
      }
     ]
    },
    "25b3d6e788ae400c9716a742fbc50ba6": {
     "views": [
      {
       "cell_index": 6
      }
     ]
    },
    "2d3bf9c3d658434c98f4cf390760d0f3": {
     "views": [
      {
       "cell_index": 6
      }
     ]
    },
    "2e0dfe8b5f5140d88ffe7cb3e11ef98e": {
     "views": [
      {
       "cell_index": 6
      }
     ]
    },
    "35e734f9ec094510aa2856c8029099d3": {
     "views": [
      {
       "cell_index": 6
      }
     ]
    },
    "3e292edca73c4c1198a367dea02f3aca": {
     "views": [
      {
       "cell_index": 6
      }
     ]
    },
    "4794907e4e774984885c3690d1877f02": {
     "views": [
      {
       "cell_index": 6
      }
     ]
    },
    "4a5d2092c96946328b8a79daa07d65f5": {
     "views": [
      {
       "cell_index": 6
      }
     ]
    },
    "4cc941f5b05e4bba98aedbb25dc2a577": {
     "views": [
      {
       "cell_index": 6
      }
     ]
    },
    "4ec1994b856f4fcab49c83c36aba7bee": {
     "views": [
      {
       "cell_index": 6
      }
     ]
    },
    "535cd39bb87c4d94b12052bbef5c9bbe": {
     "views": [
      {
       "cell_index": 6
      }
     ]
    },
    "5483088e0d274b919d23c73d73d68a88": {
     "views": [
      {
       "cell_index": 6
      }
     ]
    },
    "549338b6792f47248a1653254cdad0c1": {
     "views": [
      {
       "cell_index": 6
      }
     ]
    },
    "54bd77cdd4a44c229f325d15489dfa1b": {
     "views": [
      {
       "cell_index": 6
      }
     ]
    },
    "5c617347a64b443fb2d89a6b34a808ed": {
     "views": [
      {
       "cell_index": 6
      }
     ]
    },
    "5caf18c1526540f294002f3de13fd966": {
     "views": [
      {
       "cell_index": 6
      }
     ]
    },
    "687aca993e124d02b15f1499e35e465f": {
     "views": [
      {
       "cell_index": 6
      }
     ]
    },
    "6a61392b53534c09acb940265ef635ce": {
     "views": [
      {
       "cell_index": 6
      }
     ]
    },
    "6be95a482d1543cf89faad9cd736822c": {
     "views": [
      {
       "cell_index": 6
      }
     ]
    },
    "6ceb44db5e6d4fd3a769bf2fd7ef6807": {
     "views": [
      {
       "cell_index": 6
      }
     ]
    },
    "7fa5a85af93a41aeb4345b5305e48479": {
     "views": [
      {
       "cell_index": 6
      }
     ]
    },
    "8a43de6a834b4160b5afbfffdb6fd5e3": {
     "views": [
      {
       "cell_index": 6
      }
     ]
    },
    "8bc7a207fafa42228ed503b2a636236f": {
     "views": [
      {
       "cell_index": 6
      }
     ]
    },
    "8dd74ca49d79424a8cb504e8678e099a": {
     "views": [
      {
       "cell_index": 6
      }
     ]
    },
    "8ed8c816eabf4a2583c08bb201c2a2c5": {
     "views": [
      {
       "cell_index": 6
      }
     ]
    },
    "8f01df99a31940cca193a4b5e7f06bb4": {
     "views": [
      {
       "cell_index": 6
      }
     ]
    },
    "97156e4cd3b44c29b336e99240cecdd0": {
     "views": [
      {
       "cell_index": 6
      }
     ]
    },
    "99c811126ecb4de59b16b0000ce552a3": {
     "views": [
      {
       "cell_index": 6
      }
     ]
    },
    "9e82536fbb304cc58a789cb335182861": {
     "views": [
      {
       "cell_index": 6
      }
     ]
    },
    "ac6c5f942ce74addad0c0396835d33a7": {
     "views": [
      {
       "cell_index": 6
      }
     ]
    },
    "b2e2eb9a5f494281b54c92930a8c8c4c": {
     "views": [
      {
       "cell_index": 6
      }
     ]
    },
    "b40ef049b79b432d95e4bfb426382758": {
     "views": [
      {
       "cell_index": 6
      }
     ]
    },
    "b728b95c35f741f09d456253c3dc7cee": {
     "views": [
      {
       "cell_index": 6
      }
     ]
    },
    "b8fb08e7fc7e4827bc08952d50ac9f5a": {
     "views": [
      {
       "cell_index": 6
      }
     ]
    },
    "bad9fb465ee741e18b8ba72e4a4f4c22": {
     "views": [
      {
       "cell_index": 6
      }
     ]
    },
    "c1a4d30fa3ff491db7b2eb76f522f43e": {
     "views": [
      {
       "cell_index": 6
      }
     ]
    },
    "d6224a325bb740b69dd0508e1dc334cf": {
     "views": [
      {
       "cell_index": 6
      }
     ]
    },
    "da9d30157a7048f3acf9991ce821fe36": {
     "views": [
      {
       "cell_index": 6
      }
     ]
    },
    "ebed2437ad5e4afdaea601b7a0c2ef43": {
     "views": [
      {
       "cell_index": 6
      }
     ]
    },
    "f95742570dda408894b95ec748a928f1": {
     "views": [
      {
       "cell_index": 6
      }
     ]
    },
    "fb84071daf984abd9b8644eddd0cebcd": {
     "views": [
      {
       "cell_index": 6
      }
     ]
    },
    "fc64957951974ce6ba43ad3686120782": {
     "views": [
      {
       "cell_index": 6
      }
     ]
    }
   },
   "version": "1.2.0"
  }
 },
 "nbformat": 4,
 "nbformat_minor": 2
}
