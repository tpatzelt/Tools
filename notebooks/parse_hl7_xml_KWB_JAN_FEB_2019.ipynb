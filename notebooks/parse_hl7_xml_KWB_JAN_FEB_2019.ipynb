{
 "cells": [
  {
   "cell_type": "code",
   "execution_count": 14,
   "metadata": {},
   "outputs": [],
   "source": [
    "import pandas as pd"
   ]
  },
  {
   "cell_type": "code",
   "execution_count": 15,
   "metadata": {},
   "outputs": [],
   "source": [
    "import pandas as pd\n",
    "\n",
    "analyte_dict = {\n",
    "\t\"CREA\" : [\"SL_nz-krea\",\"Crea\",\"Creatinin\",\"Krea\",\"Kreatinin\",\"Kreatinin im Serum\",\"KREA\",\"CREA\",\"KRS\"],\n",
    "\t\"GFR\" : [\"SL_nz-ckd-epi\", \"eGFR\",\"eGFR CysC(CKD-EPI)\", \"GFR\", \"Glomeruläre Filtrationsrate\",\"glomeruläre Filtrationsrate\"],\n",
    "\t\"BLUTZUCKER\" : [\"GLucose Poct\",\"SL_nz-glu\", \"Glukose\",\"Glucose\",\"BZ\",\"YBZ\",\"YBGABZ\", \"BZNÜ\",\"BZ14\", \"GLUS\",\"Blutzucker\"],\n",
    "\t\"KALIUM\" : [\"Kalium Poct\",\"Kalium\",\"Kalium im Serum\",\"K\",\"K+\",\"RM_K+\",\"SL_nz-k\",\"YK+\"],\n",
    "\t\"NATRIUM\" : [\"Natrium Poct\",\"Natrium\",\"Na\",\"Na+\",\"YNA+\",\"NA\",\"SL_nz-na\"],\n",
    "\t\"HÄMOGLOBIN\" : [\"Hämoglobin Poct\",\"Hämoglobin\",\"HB\",\"SL_nz-hb\",\"YTHB\",\"HBG\"],\n",
    "\t\"QUICK\" : [\"Quick (TPZ)\",\"SL_nz-quick2\", \"QUICK\",\"QUIP\",\"Quick ( TPZ )\"],\n",
    "\t\"INR\" : [\"inr\",\"INR\"],\n",
    "#\t\"TROPONIN\" : [\"Troponin T\"],\n",
    "\t\"ALBUMIN\" : [\"SL_nz-alb\",\"ALBUM\",\"Albumin im Serum\",\"ALB\",\"Albumin\"],\n",
    "\t\"FOLSÄURE\" : [\"SL_nz-fol2\",\"Folsäure\",\"FOLS\"],\n",
    "\t\"EIWEIß\" : [\"SL_nz-tp\",\"TP\",\"Gesamteiweiß\"],\n",
    "\t\"LEUKOZYTEN\" : [\"SL_nz-leuko\",\"LEUK\",\"Leukozyten\",\"LEU\"],\n",
    "\t\"PROBNP\" : [\"SL_nz-probnp\",\"NT pro B-Typ natriuretisches Peptid\",\"BNP\",\"NT-proBNP\"],\n",
    "\t\"FERRITIN\" : [\"SL_nz-fer\",\"FERRI\",\"Ferritin\",\"FER\"],\n",
    "\t\"HBA1C\" : [\"SL_nz-hba1c\",\"SL_nz-hba1c-cob\",\"HBA1C\",\"HbA1c\", \"HbA1 c berechnet in mmol/mol\"],\n",
    "\t\"SO2\" : [\"SL_nz-so2-k\",\"SL_nz-so2-a\",\"POCT SO2c\", \"POCT SO2c arteriell\",\"YSO2\",\"SOA2\",\"SO2K\",\"SO2SA\",\"SO2A\",\"O2 Sättigung POCT\",\"P_SO2\",],\n",
    "\t\"PCO2\" : [\"SL_nz-pco2-k\",\"YPCO2\",\"YPCO2T\",\"PCO2  Poct\", \"POCT pCO2t arteriell\", \"PCO2V\",\"PCO2A\",\"PCO2K\",\"pCO2\"],\n",
    "\t\"PO2\" : [\"SL_nz-po2-k\",\"YPO2\",\"YPO2T\",\"PO2A\",\"PO2K\",\"POCT pO2t arteriell\", \"POCT pO2t\",\"pO2\"]\n",
    "\t}\n",
    "# [Analyt][eigentliche Einheit][Zieleinheit][umrechnugnsformel]\n",
    "converter_dict = {\n",
    "\t\"CREA\" : {\"µmol/l\":{\"mg/dl\": lambda x: x/88.4},\"mg/dl\": {\"µmol/l\": lambda x: 88.4*x}},\n",
    "\t\"FOLSÄURE\" : {\"nmol/l\":{\"ng/ml\": lambda x: x*0.441},\"ng/ml\": {\"nmol/l\": lambda x: x/0.441}},\n",
    "\t\"GFR\" : { \"ml/min\" : { \" ml/s\" : lambda x: x/60}, \"ml/s\" : {\"ml/min\": lambda x: x*60}},\n",
    "\t\"BLUTZUCKER\" :{\"mmol/l\":{\"mg/dl\": lambda x: x*18.0182}, \"mg/dl\": {\"mmol/l\": lambda x: x*0.0555}, \"mmol/l\":{\"mg/dL\": lambda x: x*18.0182}, \"mg/dL\": {\"mmol/l\": lambda x: x*0.0555}} ,\n",
    "\t\"KALIUM\" : { \"mmol/l\" : { \" meq/l\" : lambda x: x}, \"meq/l\" : {\"mmol/l\": lambda x: x}},\n",
    "\t\"NATRIUM\" : { \"mmol/l\" : { \" meq/l\" : lambda x: x, \"µmol/l\": lambda x : x*0.001}, \"meq/l\" : {\"mmol/l\": lambda x: x}, \"µmol/l\": {\"mmol/l\":lambda x: x * 1000}},\n",
    "\t\"HÄMOGLOBIN\" : {\"mmol/l\":{\"g/dl\": lambda x: x*1.16}, \"g/dl\": {\"mmol/l\": lambda x: x*0.62}},\n",
    "\t\"QUICK\" : {\"%\":{\"%-\": lambda x: x}, \"%-\": {\"%\": lambda x: x}},\n",
    "\t\"INR\" : {\"\":{\"\": lambda x: x}},\n",
    "#\t\"TROPONIN\" : {\"ng/L\": {\"ng/dl\": lambda x: x/10}, \"ng/dl\": {\"ng/L\" :lambda x: x*10}},\n",
    "\t\"ALBUMIN\": {\"g/l\": { \"%\": lambda x: x}, \"%\" : {\"g/l\": lambda x: x},\"mg/dl\" : {\"g/l\" : lambda x: x/100}},\n",
    "#\t\"ALBUMIN\" : {\"mg/dl\":{\"g/l\": lambda x: x/100},\"g/dl\":{\"g/l\": lambda x: x*10}, \"g/l\": {\"g/dl\": lambda x: x/10, \"mg/dl\": lambda x: x*100, \"%\": lambda x: x/10},\"%\": { \"g/l\" : lambda x: x*10}},\n",
    "\t\"TROPONIN\" : {\"ng/L\" : {\"ng/dl\" : lambda x: x*10}, \"ng/dl\" : {\"ng/L\" : lambda x: x/10}},\n",
    "\t\"EIWEIß\" : {\"g/dl\":{\"g/l\": lambda x: x*10}, \"g/l\": {\"g/dl\": lambda x: x/10}},\n",
    "\t\"LEUKOZYTEN\" : {\"gpt/l\" : {\"10^3/µl\" : lambda x: x}, \"10^3/µl\": {\"gpt/l\": lambda x : x}, \"/nl\": {\"gpt/l\": lambda x : x}},\n",
    "\t\"PROBNP\" : {\"pg/ml\" : {\"ng/l\" : lambda x: x}, \"ng/l\" : {\"pg/ml\" : lambda x: x}},\n",
    "\t\"FERRITIN\" : {\"ng/ml\" : {\"µg/l\" : lambda x: x}, \"µg/l\" : {\"ng/ml\" : lambda x: x}},\n",
    "\t\"HBA1C\" : { \"%\" : {\"mmol/mol\": lambda x: (x-2.5)*10.929}, \"mmol/mol\" : { \"%\" : lambda x: x*0.113}},\n",
    "\t\"SO2\" : {\"%\":{\"%-\": lambda x: x*1.16}, \"%-\": {\"%\": lambda x: x*0.62}},#, \"\": {\"%\": lambda x: x}},\n",
    "\t\"PCO2\" : {\"kpa\" : {\"mmhg\" : lambda x: x*7}, \"mmhg\" : {\"kpa\" : lambda x: x/7}},\n",
    "\t\"PO2\" :  {\"kpa\" : {\"mmhg\" : lambda x: x*7}, \"mmhg\" : {\"kpa\" : lambda x: x/7}},\n",
    "\t}\n",
    "\n",
    "# im einheiten_dict werden die gewünschten einheiten benannt in denen die werte umgewandelt \n",
    "# werden sollen. falls der wert bereits in der richtigen einheit ist, wird die erste neue einheit aus converter_dict\n",
    "#für das jeweilige analyt benutzt\n",
    "\n",
    "datumsformat_dict = {\n",
    "\t\"LDK\" : \"%Y%m%d%H%M\",\n",
    "\t\"AMK\" : \"%d.%m.%y %H:%M:%S\",\n",
    "\t\"KBL\" : \"%d.%m.%Y %H:%M:%S\",\n",
    "\t\"EASK\" : \"%d.%m.%Y %H:%M:%S\",\n",
    "\t\"KKE\" : \"not defined yet\",\n",
    "\t}\n",
    "\n",
    "def create_rules_to_einheiten_dict(Regeldatei):\n",
    "\trules = pd.read_csv(Regeldatei, delimiter=\";\", na_filter = False,encoding=\"latin1\")\n",
    "\tanalyt_einheit = set()\n",
    "\tfor index, rule in rules.iterrows():\n",
    "\t\tanalyt_einheit.add((rule[\"Analyt\"],rule[\"Masseinheit\"]))\n",
    "\n",
    "\teinheiten_dict = dict(( x,y) for x, y in analyt_einheit)\n",
    "\treturn einheiten_dict"
   ]
  },
  {
   "cell_type": "markdown",
   "metadata": {},
   "source": [
    "## lab 2019 Jan Dez"
   ]
  },
  {
   "cell_type": "code",
   "execution_count": 16,
   "metadata": {
    "scrolled": true
   },
   "outputs": [
    {
     "data": {
      "text/plain": [
       "['../LDK-KWB-Wetzlar/Daten/Labor/2019_Opus_ORU_01.txt',\n",
       " '../LDK-KWB-Wetzlar/Daten/Labor/2019_Opus_ORU_02.txt',\n",
       " '../LDK-KWB-Wetzlar/Daten/Labor/2019_Opus_ORU_03.txt',\n",
       " '../LDK-KWB-Wetzlar/Daten/Labor/2019_Opus_ORU_04.txt',\n",
       " '../LDK-KWB-Wetzlar/Daten/Labor/2019_Opus_ORU_05.txt',\n",
       " '../LDK-KWB-Wetzlar/Daten/Labor/2019_Opus_ORU_06.txt',\n",
       " '../LDK-KWB-Wetzlar/Daten/Labor/Opus_ORU_01.txt',\n",
       " '../LDK-KWB-Wetzlar/Daten/Labor/Opus_ORU_02.txt',\n",
       " '../LDK-KWB-Wetzlar/Daten/Labor/Opus_ORU_03.txt',\n",
       " '../LDK-KWB-Wetzlar/Daten/Labor/Opus_ORU_04.txt']"
      ]
     },
     "execution_count": 16,
     "metadata": {},
     "output_type": "execute_result"
    }
   ],
   "source": [
    "lab_path = \"../LDK-KWB-Wetzlar/Daten/Labor/2019_Opus_ORU_0\"\n",
    "lab_dirs = [lab_path+str(x)+\".txt\" for x in range(1,7)]\n",
    "lab_path = \"../LDK-KWB-Wetzlar/Daten/Labor/Opus_ORU_0\"\n",
    "lab_dirs.extend([lab_path+str(x)+\".txt\" for x in range(1,5)])\n",
    "lab_dirs"
   ]
  },
  {
   "cell_type": "code",
   "execution_count": 17,
   "metadata": {
    "scrolled": true
   },
   "outputs": [
    {
     "name": "stdout",
     "output_type": "stream",
     "text": [
      "Processing: ../LDK-KWB-Wetzlar/Daten/Labor/2019_Opus_ORU_01.txt\n",
      "Processing: ../LDK-KWB-Wetzlar/Daten/Labor/2019_Opus_ORU_02.txt\n",
      "Processing: ../LDK-KWB-Wetzlar/Daten/Labor/2019_Opus_ORU_03.txt\n",
      "Processing: ../LDK-KWB-Wetzlar/Daten/Labor/2019_Opus_ORU_04.txt\n",
      "Processing: ../LDK-KWB-Wetzlar/Daten/Labor/2019_Opus_ORU_05.txt\n",
      "Processing: ../LDK-KWB-Wetzlar/Daten/Labor/2019_Opus_ORU_06.txt\n",
      "Processing: ../LDK-KWB-Wetzlar/Daten/Labor/Opus_ORU_01.txt\n",
      "Processing: ../LDK-KWB-Wetzlar/Daten/Labor/Opus_ORU_02.txt\n",
      "Processing: ../LDK-KWB-Wetzlar/Daten/Labor/Opus_ORU_03.txt\n",
      "Processing: ../LDK-KWB-Wetzlar/Daten/Labor/Opus_ORU_04.txt\n",
      "        KH-ID Laborkürzel Messwert Masseinheit Referenzbereich         Datum\n",
      "0  1837621518        LEUK     10.2     10^3/µl       3.5 - 9.8  201812312305\n",
      "1  1837621518         ERY     3.41     10^6/µl       4.5 - 5.9  201812312305\n",
      "2  1837621518          HB     10.7        g/dl     13.5 - 17.5  201812312305\n",
      "3  1837621518          HK     32.5           %         40 - 53  201812312305\n",
      "4  1837621518         MCV     95.3          fl         80 - 96  201812312305\n",
      "['10^3/µl' '10^6/µl' 'g/dl' '%' 'fl' 'pg' 'mmol/l' 'mg/dl' 'ml/min' ''\n",
      " 'sec' 'u/l' 'mmhg' 'µiu/ml' 'ng/dl' 'ng/ml' 'mg/l' 'o/oo' 'µg/l' 'ng/l'\n",
      " 'g/l' 'miu/ml' 'µg/dl' 'pg/ml' 'u/ml' 'µg/ml' '/µl' 'ie/l' 'g/24h'\n",
      " 'mg/24h' 'mmol/24h' 'mmol/mol']\n",
      "Wall time: 1min 43s\n"
     ]
    }
   ],
   "source": [
    "%%time\n",
    "#measurements = pd.DataFrame(columns=['ID', 'Laborkürzel', 'Messwert', 'Maßeinheit', 'Referenzbereich', 'AB-Datum/Zeit'])\n",
    "rows = []\n",
    "for d in lab_dirs:\n",
    "    print(\"Processing: {}\".format(d))\n",
    "    with open(d) as f:\n",
    "        sample_count = 0\n",
    "        for msg in f:\n",
    "            if sample_count==1000:\n",
    "                break\n",
    "            #sample_count +=1\n",
    "            #print(msg)\n",
    "            segments = msg.replace(\"\\S\\\\\",\"^\").replace(\"\\n\",\"\").split(\"|\")\n",
    "            #print(segments)\n",
    "            if segments[0] == \"PV1\":\n",
    "                d = dict()\n",
    "                d[\"KH-ID\"] = segments[19]\n",
    "            if segments[0] == \"OBX\":\n",
    "                        #print(segments)\n",
    "                d[\"Laborkürzel\"] = segments[3]\n",
    "                #print(segments[3])\n",
    "                d[\"Messwert\"] = segments[5]\n",
    "                d[\"Masseinheit\"] = segments[6].lower().replace(\"â\",\"\")\n",
    "                if d[\"Laborkürzel\"] in analyte_dict[\"CREA\"]:\n",
    "                    lower = float(segments[7].split(\"-\")[0].strip())\n",
    "                    upper = float(segments[7].split(\"-\")[1].strip())\n",
    "                    lower = converter_dict[\"CREA\"][d[\"Masseinheit\"]][\"µmol/l\"](lower)\n",
    "                    upper = converter_dict[\"CREA\"][d[\"Masseinheit\"]][\"µmol/l\"](upper)\n",
    "                    d[\"Referenzbereich\"] = str(round(lower,0)) + \" - \" + str(round(upper,0))\n",
    "                else:\n",
    "                    d[\"Referenzbereich\"] = segments[7]\n",
    "                   # this is inconsistent, to be improved\n",
    "                d['Datum'] = segments[-2]\n",
    "                \n",
    "                   # add measurement to dataframe\n",
    "                if not(d[\"Messwert\"] in [ '!folgt', \"!angef.\",'!storno', '!sKomm', '[n.ber]']):\n",
    "                    rows.append(dict(d))\n",
    "                    #measurements.append(pd.Series(pid, kuerzel, messwert, einheit, referenz, datum),sort=False)\n",
    "                    #i +=1\n",
    "measurements = pd.DataFrame(rows,columns=['KH-ID', 'Laborkürzel', 'Messwert', 'Masseinheit', 'Referenzbereich', 'Datum'])\n",
    "print(measurements.head())\n",
    "print(measurements[\"Masseinheit\"].unique())"
   ]
  },
  {
   "cell_type": "code",
   "execution_count": 18,
   "metadata": {},
   "outputs": [
    {
     "ename": "NameError",
     "evalue": "name 'measurements' is not defined",
     "output_type": "error",
     "traceback": [
      "\u001b[1;31m---------------------------------------------------------------------------\u001b[0m",
      "\u001b[1;31mNameError\u001b[0m                                 Traceback (most recent call last)",
      "\u001b[1;32m<ipython-input-18-5dc3a8b1f03f>\u001b[0m in \u001b[0;36m<module>\u001b[1;34m\u001b[0m\n\u001b[1;32m----> 1\u001b[1;33m \u001b[0mmeasurements\u001b[0m\u001b[1;33m.\u001b[0m\u001b[0mto_csv\u001b[0m\u001b[1;33m(\u001b[0m\u001b[1;34m\"../LDK-KWB-Wetzlar/Daten/Labor/Labor_Feb_2019.csv\"\u001b[0m\u001b[1;33m,\u001b[0m\u001b[0msep\u001b[0m\u001b[1;33m=\u001b[0m\u001b[1;34m\";\"\u001b[0m\u001b[1;33m,\u001b[0m\u001b[0mindex\u001b[0m\u001b[1;33m=\u001b[0m\u001b[1;32mFalse\u001b[0m\u001b[1;33m,\u001b[0m\u001b[0mencoding\u001b[0m\u001b[1;33m=\u001b[0m\u001b[1;34m\"utf8\"\u001b[0m\u001b[1;33m)\u001b[0m\u001b[1;33m\u001b[0m\u001b[1;33m\u001b[0m\u001b[0m\n\u001b[0m\u001b[0;32m      2\u001b[0m \u001b[1;31m# chang encoding iwth notepad\u001b[0m\u001b[1;33m\u001b[0m\u001b[1;33m\u001b[0m\u001b[1;33m\u001b[0m\u001b[0m\n\u001b[0;32m      3\u001b[0m \u001b[0menc\u001b[0m \u001b[1;33m=\u001b[0m \u001b[0mpd\u001b[0m\u001b[1;33m.\u001b[0m\u001b[0mread_csv\u001b[0m\u001b[1;33m(\u001b[0m\u001b[1;34m\"../LDK-KWB-Wetzlar/Daten/Labor/Labor_Feb_2019.csv\"\u001b[0m\u001b[1;33m,\u001b[0m\u001b[0msep\u001b[0m\u001b[1;33m=\u001b[0m\u001b[1;34m\";\"\u001b[0m\u001b[1;33m,\u001b[0m\u001b[0mna_filter\u001b[0m\u001b[1;33m=\u001b[0m\u001b[1;32mFalse\u001b[0m\u001b[1;33m,\u001b[0m\u001b[0mencoding\u001b[0m\u001b[1;33m=\u001b[0m\u001b[1;34m\"utf8\"\u001b[0m\u001b[1;33m,\u001b[0m\u001b[0mdtype\u001b[0m\u001b[1;33m=\u001b[0m\u001b[1;33m{\u001b[0m\u001b[1;34m\"KH-ID\"\u001b[0m\u001b[1;33m:\u001b[0m\u001b[0mstr\u001b[0m\u001b[1;33m}\u001b[0m\u001b[1;33m)\u001b[0m\u001b[1;33m\u001b[0m\u001b[1;33m\u001b[0m\u001b[0m\n\u001b[0;32m      4\u001b[0m \u001b[0mprint\u001b[0m\u001b[1;33m(\u001b[0m\u001b[0menc\u001b[0m\u001b[1;33m[\u001b[0m\u001b[1;34m\"Masseinheit\"\u001b[0m\u001b[1;33m]\u001b[0m\u001b[1;33m.\u001b[0m\u001b[0munique\u001b[0m\u001b[1;33m(\u001b[0m\u001b[1;33m)\u001b[0m\u001b[1;33m)\u001b[0m\u001b[1;33m\u001b[0m\u001b[1;33m\u001b[0m\u001b[0m\n\u001b[0;32m      5\u001b[0m \u001b[0menc\u001b[0m\u001b[1;33m.\u001b[0m\u001b[0mhead\u001b[0m\u001b[1;33m(\u001b[0m\u001b[1;33m)\u001b[0m\u001b[1;33m\u001b[0m\u001b[1;33m\u001b[0m\u001b[0m\n",
      "\u001b[1;31mNameError\u001b[0m: name 'measurements' is not defined"
     ]
    }
   ],
   "source": [
    "measurements.to_csv(\"../LDK-KWB-Wetzlar/Daten/Labor/Labor_Feb_2019.csv\",sep=\";\",index=False,encoding=\"utf8\")\n",
    "# chang encoding iwth notepad\n",
    "enc = pd.read_csv(\"../LDK-KWB-Wetzlar/Daten/Labor/Labor_Feb_2019.csv\",sep=\";\",na_filter=False,encoding=\"utf8\",dtype={\"KH-ID\":str})\n",
    "print(enc[\"Masseinheit\"].unique())\n",
    "enc.head()"
   ]
  },
  {
   "cell_type": "code",
   "execution_count": null,
   "metadata": {
    "scrolled": true
   },
   "outputs": [],
   "source": [
    "# encoding mit notepad geändert\n",
    "measurements = pd.read_csv(\"../LDK-KWB-Wetzlar/Daten/Labor/Labor_Feb_2019.csv\",sep=\";\",na_filter=False,encoding=\"latin1\",dtype={\"KH-ID\":str})\n",
    "measurements.head()\n",
    "print(measurements[\"Masseinheit\"].unique())"
   ]
  },
  {
   "cell_type": "markdown",
   "metadata": {},
   "source": [
    "RIS 2018"
   ]
  },
  {
   "cell_type": "code",
   "execution_count": null,
   "metadata": {},
   "outputs": [],
   "source": [
    "ris_path = \"../LDK-KWB-Wetzlar/Daten/Radio/2019_RIS_0\"\n",
    "ris_dirs = [ris_path+str(x)+\".txt\" for x in range(1,2)]\n",
    "ris_path = \"../LDK-KWB-Wetzlar/Daten/Radio/RIS_0\"\n",
    "ris_dirs.extend([ris_path+str(x)+\".txt\" for x in range(1,2)])\n",
    "ris_dirs\n",
    "\n"
   ]
  },
  {
   "cell_type": "code",
   "execution_count": null,
   "metadata": {},
   "outputs": [],
   "source": [
    "%%time\n",
    "#measurements = pd.DataFrame(columns=['ID', 'Laborkürzel', 'Messwert', 'Maßeinheit', 'Referenzbereich', 'AB-Datum/Zeit'])\n",
    "rows = []\n",
    "for d in ris_dirs:\n",
    "    print(\"Processing: {}\".format(d))\n",
    "    with open(d,encoding=\"latin1\") as f:\n",
    "        sample_count = 0\n",
    "        for msg in f:\n",
    "            if sample_count==100:\n",
    "                break\n",
    "            #sample_count +=1\n",
    "            #print(msg)\n",
    "            segments = msg.replace(\"\\\\.in+0\\\\\",\"\").replace(\"\\\\.in-0\\\\\",\"\").replace(\"\\\\.br\\\\\",\"\").split(\"|\")\n",
    "            #print(segments)\n",
    "            if segments[0] == \"PV1\":\n",
    "                d = dict()\n",
    "                d[\"KH-ID\"] = segments[19]\n",
    "            if segments[0] == \"OBX\":\n",
    "                d[\"Befund\"] = segments[5]\n",
    "                if segments[5] not in [\"Vorabbefund nur für Bildaufruf\",\"\",\" \",\"Befundung und Bildarchivierung im jeweiligen Subsystem. \",\"Die Befundung erfolgt im System der Urologischen Gemeinschaftspraxis. \",\"Untersuchung wurde in Bezug auf den Originalbefund demonstriert. \",\"Bildarchivierung und Befundung im jeweiligen Subsystem. \"]:\n",
    "                    rows.append(dict(d))\n",
    "                \n",
    "measurements = pd.DataFrame(rows,columns=['KH-ID', \"Befund\"])\n",
    "print(measurements.head())"
   ]
  },
  {
   "cell_type": "code",
   "execution_count": null,
   "metadata": {},
   "outputs": [],
   "source": [
    "measurements.to_csv(\"../LDK-KWB-Wetzlar/Daten/Radio/Radio_Jan_Feb_2019.csv\",sep=\";\",index=False,encoding=\"latin1\")\n",
    "enc = pd.read_csv(\"../LDK-KWB-Wetzlar/Daten/Radio/Radio_Jan_Feb_2019.csv\",sep=\";\",na_filter=False,encoding=\"latin1\")\n",
    "enc.head()"
   ]
  },
  {
   "cell_type": "markdown",
   "metadata": {},
   "source": [
    "## MIBI 2018"
   ]
  },
  {
   "cell_type": "code",
   "execution_count": null,
   "metadata": {},
   "outputs": [],
   "source": [
    "mibi_path = \"../LDK-KWB-Wetzlar/Daten/Mibi/2019_Befunde_Lev_0\"\n",
    "mibi_dirs = [mibi_path+str(x)+\".txt\" for x in range(1,3)]\n",
    "mibi_path = \"../LDK-KWB-Wetzlar/Daten/Mibi/Befunde_Lev_0\"\n",
    "mibi_dirs.extend([mibi_path+str(x)+\".txt\" for x in range(1,2)])\n",
    "mibi_dirs\n"
   ]
  },
  {
   "cell_type": "code",
   "execution_count": null,
   "metadata": {},
   "outputs": [],
   "source": [
    "%%time\n",
    "import re\n",
    "#measurements = pd.DataFrame(columns=['ID', 'Laborkürzel', 'Messwert', 'Maßeinheit', 'Referenzbereich', 'AB-Datum/Zeit'])\n",
    "rows = []\n",
    "for d in mibi_dirs:\n",
    "    print(\"Processing: {}\".format(d))\n",
    "    with open(d,encoding=\"latin1\") as f:\n",
    "        befunde = f.read().split(\"<?xml version=\\\"1.0\\\" encoding=\\\"ISO-8859-1\\\"?>\")\n",
    "        #print(befunde[:2])\n",
    "        for befund in befunde:\n",
    "            match = re.findall(re.compile(\"<Fallnummer>\\d+</Fallnummer>\"),befund)\n",
    "            if match:\n",
    "                match = match[0].replace(\"<Fallnummer>\",\"\").replace(\"</Fallnummer>\",\"\")\n",
    "                #print(match)\n",
    "                d = dict()\n",
    "                d[\"KH-ID\"] = match\n",
    "                bef_match = re.findall(re.compile(\"<TXT>[\\S\\s]+</TXT>\"),befund)\n",
    "                #print(bef_match)\n",
    "                if bef_match:\n",
    "                    bef_match = bef_match[0].replace(\"<TXT>\",\"\").replace(\"</TXT>\",\"\").replace(\"&#xD;\",\"\").replace(\"&lt\",\"\").replace(\"&gt;\",\"\").replace(\"-\",\"\").replace(\"_\",\"\")\n",
    "                    bef_match=\" \".join(bef_match.split())\n",
    "                    d[\"Befund\"] = bef_match\n",
    "                    rows.append(dict(d))\n",
    "            \n",
    "measurements = pd.DataFrame(rows,columns=['KH-ID', \"Befund\"])\n",
    "print(measurements.head())"
   ]
  },
  {
   "cell_type": "code",
   "execution_count": null,
   "metadata": {},
   "outputs": [],
   "source": [
    "print(measurements.head())"
   ]
  },
  {
   "cell_type": "code",
   "execution_count": null,
   "metadata": {},
   "outputs": [],
   "source": [
    "measurements.to_csv(\"../LDK-KWB-Wetzlar/Daten/Mibi/Mibi_Jan_Feb_2019.csv\",sep=\";\",index=False,encoding=\"latin1\")\n",
    "enc = pd.read_csv(\"../LDK-KWB-Wetzlar/Daten/Mibi/Mibi_Jan_Feb_2019.csv\",sep=\";\",na_filter=False,encoding=\"latin1\")\n",
    "enc.head()"
   ]
  },
  {
   "cell_type": "code",
   "execution_count": null,
   "metadata": {},
   "outputs": [],
   "source": [
    "a=5"
   ]
  },
  {
   "cell_type": "code",
   "execution_count": null,
   "metadata": {},
   "outputs": [],
   "source": [
    "a\n"
   ]
  },
  {
   "cell_type": "code",
   "execution_count": null,
   "metadata": {},
   "outputs": [],
   "source": []
  }
 ],
 "metadata": {
  "kernelspec": {
   "display_name": "Python 3",
   "language": "python",
   "name": "python3"
  },
  "language_info": {
   "codemirror_mode": {
    "name": "ipython",
    "version": 3
   },
   "file_extension": ".py",
   "mimetype": "text/x-python",
   "name": "python",
   "nbconvert_exporter": "python",
   "pygments_lexer": "ipython3",
   "version": "3.6.8"
  },
  "widgets": {
   "state": {
    "011d938ff3204b578e0306d25ec839b8": {
     "views": [
      {
       "cell_index": 6
      }
     ]
    },
    "0344c3b3cbd647ffa351ed755b977f47": {
     "views": [
      {
       "cell_index": 6
      }
     ]
    },
    "0c43c5aa21564ac99e583e9c88bb2bd3": {
     "views": [
      {
       "cell_index": 6
      }
     ]
    },
    "143f747ff9d74180bae038bf6591fe24": {
     "views": [
      {
       "cell_index": 6
      }
     ]
    },
    "1dce75e501a5456ab4586a9ecf0677ec": {
     "views": [
      {
       "cell_index": 6
      }
     ]
    },
    "25549ab6a952472d85b74b3a9369dd6c": {
     "views": [
      {
       "cell_index": 6
      }
     ]
    },
    "25b3d6e788ae400c9716a742fbc50ba6": {
     "views": [
      {
       "cell_index": 6
      }
     ]
    },
    "2d3bf9c3d658434c98f4cf390760d0f3": {
     "views": [
      {
       "cell_index": 6
      }
     ]
    },
    "2e0dfe8b5f5140d88ffe7cb3e11ef98e": {
     "views": [
      {
       "cell_index": 6
      }
     ]
    },
    "35e734f9ec094510aa2856c8029099d3": {
     "views": [
      {
       "cell_index": 6
      }
     ]
    },
    "3e292edca73c4c1198a367dea02f3aca": {
     "views": [
      {
       "cell_index": 6
      }
     ]
    },
    "4794907e4e774984885c3690d1877f02": {
     "views": [
      {
       "cell_index": 6
      }
     ]
    },
    "4a5d2092c96946328b8a79daa07d65f5": {
     "views": [
      {
       "cell_index": 6
      }
     ]
    },
    "4cc941f5b05e4bba98aedbb25dc2a577": {
     "views": [
      {
       "cell_index": 6
      }
     ]
    },
    "4ec1994b856f4fcab49c83c36aba7bee": {
     "views": [
      {
       "cell_index": 6
      }
     ]
    },
    "535cd39bb87c4d94b12052bbef5c9bbe": {
     "views": [
      {
       "cell_index": 6
      }
     ]
    },
    "5483088e0d274b919d23c73d73d68a88": {
     "views": [
      {
       "cell_index": 6
      }
     ]
    },
    "549338b6792f47248a1653254cdad0c1": {
     "views": [
      {
       "cell_index": 6
      }
     ]
    },
    "54bd77cdd4a44c229f325d15489dfa1b": {
     "views": [
      {
       "cell_index": 6
      }
     ]
    },
    "5c617347a64b443fb2d89a6b34a808ed": {
     "views": [
      {
       "cell_index": 6
      }
     ]
    },
    "5caf18c1526540f294002f3de13fd966": {
     "views": [
      {
       "cell_index": 6
      }
     ]
    },
    "687aca993e124d02b15f1499e35e465f": {
     "views": [
      {
       "cell_index": 6
      }
     ]
    },
    "6a61392b53534c09acb940265ef635ce": {
     "views": [
      {
       "cell_index": 6
      }
     ]
    },
    "6be95a482d1543cf89faad9cd736822c": {
     "views": [
      {
       "cell_index": 6
      }
     ]
    },
    "6ceb44db5e6d4fd3a769bf2fd7ef6807": {
     "views": [
      {
       "cell_index": 6
      }
     ]
    },
    "7fa5a85af93a41aeb4345b5305e48479": {
     "views": [
      {
       "cell_index": 6
      }
     ]
    },
    "8a43de6a834b4160b5afbfffdb6fd5e3": {
     "views": [
      {
       "cell_index": 6
      }
     ]
    },
    "8bc7a207fafa42228ed503b2a636236f": {
     "views": [
      {
       "cell_index": 6
      }
     ]
    },
    "8dd74ca49d79424a8cb504e8678e099a": {
     "views": [
      {
       "cell_index": 6
      }
     ]
    },
    "8ed8c816eabf4a2583c08bb201c2a2c5": {
     "views": [
      {
       "cell_index": 6
      }
     ]
    },
    "8f01df99a31940cca193a4b5e7f06bb4": {
     "views": [
      {
       "cell_index": 6
      }
     ]
    },
    "97156e4cd3b44c29b336e99240cecdd0": {
     "views": [
      {
       "cell_index": 6
      }
     ]
    },
    "99c811126ecb4de59b16b0000ce552a3": {
     "views": [
      {
       "cell_index": 6
      }
     ]
    },
    "9e82536fbb304cc58a789cb335182861": {
     "views": [
      {
       "cell_index": 6
      }
     ]
    },
    "ac6c5f942ce74addad0c0396835d33a7": {
     "views": [
      {
       "cell_index": 6
      }
     ]
    },
    "b2e2eb9a5f494281b54c92930a8c8c4c": {
     "views": [
      {
       "cell_index": 6
      }
     ]
    },
    "b40ef049b79b432d95e4bfb426382758": {
     "views": [
      {
       "cell_index": 6
      }
     ]
    },
    "b728b95c35f741f09d456253c3dc7cee": {
     "views": [
      {
       "cell_index": 6
      }
     ]
    },
    "b8fb08e7fc7e4827bc08952d50ac9f5a": {
     "views": [
      {
       "cell_index": 6
      }
     ]
    },
    "bad9fb465ee741e18b8ba72e4a4f4c22": {
     "views": [
      {
       "cell_index": 6
      }
     ]
    },
    "c1a4d30fa3ff491db7b2eb76f522f43e": {
     "views": [
      {
       "cell_index": 6
      }
     ]
    },
    "d6224a325bb740b69dd0508e1dc334cf": {
     "views": [
      {
       "cell_index": 6
      }
     ]
    },
    "da9d30157a7048f3acf9991ce821fe36": {
     "views": [
      {
       "cell_index": 6
      }
     ]
    },
    "ebed2437ad5e4afdaea601b7a0c2ef43": {
     "views": [
      {
       "cell_index": 6
      }
     ]
    },
    "f95742570dda408894b95ec748a928f1": {
     "views": [
      {
       "cell_index": 6
      }
     ]
    },
    "fb84071daf984abd9b8644eddd0cebcd": {
     "views": [
      {
       "cell_index": 6
      }
     ]
    },
    "fc64957951974ce6ba43ad3686120782": {
     "views": [
      {
       "cell_index": 6
      }
     ]
    }
   },
   "version": "1.2.0"
  }
 },
 "nbformat": 4,
 "nbformat_minor": 2
}
