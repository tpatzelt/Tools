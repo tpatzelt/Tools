{
 "cells": [
  {
   "cell_type": "code",
   "execution_count": 2,
   "metadata": {},
   "outputs": [],
   "source": [
    "import pandas as pd"
   ]
  },
  {
   "cell_type": "code",
   "execution_count": 34,
   "metadata": {},
   "outputs": [],
   "source": [
    "analyte_dict = {\n",
    "\t\"CREA\" : [\"SL_nz-krea\",\"Crea\",\"Creatinin\",\"Krea\",\"Kreatinin\",\"Kreatinin im Serum\",\"KREA\",\"CREA\",\"KRS\"],\n",
    "\t\"GFR\" : [\"SL_nz-ckd-epi\", \"eGFR\",\"eGFR CysC(CKD-EPI)\", \"GFR\", \"Glomeruläre Filtrationsrate\",\"glomeruläre Filtrationsrate\"],\n",
    "\t\"BLUTZUCKER\" : [\"GLucose Poct\",\"SL_nz-glu\", \"Glukose\",\"Glucose\",\"BZ\",\"YBZ\",\"YBGABZ\", \"BZNÜ\",\"BZ14\", \"GLUS\",\"Blutzucker\"],\n",
    "\t\"KALIUM\" : [\"Kalium Poct\",\"Kalium\",\"Kalium im Serum\",\"K\",\"K+\",\"RM_K+\",\"SL_nz-k\",\"YK+\"],\n",
    "\t\"NATRIUM\" : [\"Natrium Poct\",\"Natrium\",\"Na\",\"Na+\",\"YNA+\",\"NA\",\"SL_nz-na\"],\n",
    "\t\"HÄMOGLOBIN\" : [\"Hämoglobin Poct\",\"Hämoglobin\",\"HB\",\"SL_nz-hb\",\"YTHB\",\"HBG\"],\n",
    "\t\"QUICK\" : [\"Quick (TPZ)\",\"SL_nz-quick2\", \"QUICK\",\"QUIP\",\"Quick ( TPZ )\"],\n",
    "\t\"INR\" : [\"inr\",\"INR\"],\n",
    "#\t\"TROPONIN\" : [\"Troponin T\"],\n",
    "\t\"ALBUMIN\" : [\"SL_nz-alb\",\"ALBUM\",\"Albumin im Serum\",\"ALB\",\"Albumin\"],\n",
    "\t\"FOLSÄURE\" : [\"SL_nz-fol2\",\"Folsäure\",\"FOLS\"],\n",
    "\t\"EIWEIß\" : [\"SL_nz-tp\",\"TP\",\"Gesamteiweiß\"],\n",
    "\t\"LEUKOZYTEN\" : [\"SL_nz-leuko\",\"LEUK\",\"Leukozyten\",\"LEU\"],\n",
    "\t\"PROBNP\" : [\"SL_nz-probnp\",\"NT pro B-Typ natriuretisches Peptid\",\"BNP\",\"NT-proBNP\"],\n",
    "\t\"FERRITIN\" : [\"SL_nz-fer\",\"FERRI\",\"Ferritin\",\"FER\"],\n",
    "\t\"HBA1C\" : [\"SL_nz-hba1c\",\"SL_nz-hba1c-cob\",\"HBA1C\",\"HbA1c\", \"HbA1 c berechnet in mmol/mol\"],\n",
    "\t\"SO2\" : [\"SL_nz-so2-k\",\"SL_nz-so2-a\",\"POCT SO2c\", \"POCT SO2c arteriell\",\"YSO2\",\"SOA2\",\"SO2K\",\"SO2SA\",\"SO2A\",\"O2 Sättigung POCT\",\"P_SO2\",],\n",
    "\t\"PCO2\" : [\"SL_nz-pco2-k\",\"YPCO2\",\"YPCO2T\",\"PCO2  Poct\", \"POCT pCO2t arteriell\", \"PCO2V\",\"PCO2A\",\"PCO2K\",\"pCO2\"],\n",
    "\t\"PO2\" : [\"SL_nz-po2-k\",\"YPO2\",\"YPO2T\",\"PO2A\",\"PO2K\",\"POCT pO2t arteriell\", \"POCT pO2t\",\"pO2\"]\n",
    "\t}"
   ]
  },
  {
   "cell_type": "code",
   "execution_count": 3,
   "metadata": {},
   "outputs": [],
   "source": [
    "data1 = pd.read_csv(\"../AKAH/Daten/Labor/Labor_AKAH_2018_Q1.csv\", sep=\";\", encoding=\"latin1\")\n",
    "data2 = pd.read_csv(\"../AKAH/Daten/Labor/Labor_AKAH_2018_Q2.csv\", sep=\";\", encoding=\"latin1\")\n",
    "data3 = pd.read_csv(\"../AKAH/Daten/Labor/Labor_AKAH_2018_Q3.csv\", sep=\";\", encoding=\"latin1\")\n",
    "data4 = pd.read_csv(\"../AKAH/Daten/Labor/Labor_AKAH_2018_Q4.csv\", sep=\";\", encoding=\"latin1\")"
   ]
  },
  {
   "cell_type": "code",
   "execution_count": 9,
   "metadata": {},
   "outputs": [
    {
     "data": {
      "text/plain": [
       "1048575"
      ]
     },
     "execution_count": 9,
     "metadata": {},
     "output_type": "execute_result"
    }
   ],
   "source": [
    "len(data1)"
   ]
  },
  {
   "cell_type": "code",
   "execution_count": 44,
   "metadata": {},
   "outputs": [],
   "source": []
  },
  {
   "cell_type": "code",
   "execution_count": 7,
   "metadata": {},
   "outputs": [],
   "source": [
    "all_data = data1.append([data2,data3,data4]).reset_index()"
   ]
  },
  {
   "cell_type": "code",
   "execution_count": 8,
   "metadata": {},
   "outputs": [
    {
     "data": {
      "text/plain": [
       "4194300"
      ]
     },
     "execution_count": 8,
     "metadata": {},
     "output_type": "execute_result"
    }
   ],
   "source": [
    "len(all_data)"
   ]
  },
  {
   "cell_type": "code",
   "execution_count": 10,
   "metadata": {},
   "outputs": [
    {
     "data": {
      "text/html": [
       "<div>\n",
       "<style scoped>\n",
       "    .dataframe tbody tr th:only-of-type {\n",
       "        vertical-align: middle;\n",
       "    }\n",
       "\n",
       "    .dataframe tbody tr th {\n",
       "        vertical-align: top;\n",
       "    }\n",
       "\n",
       "    .dataframe thead th {\n",
       "        text-align: right;\n",
       "    }\n",
       "</style>\n",
       "<table border=\"1\" class=\"dataframe\">\n",
       "  <thead>\n",
       "    <tr style=\"text-align: right;\">\n",
       "      <th></th>\n",
       "      <th>index</th>\n",
       "      <th>FALLNR</th>\n",
       "      <th>VORGANGSNR</th>\n",
       "      <th>DATUMERBRACHTEL</th>\n",
       "      <th>ZEITERBRACHTEL</th>\n",
       "      <th>CODE</th>\n",
       "      <th>BEZEICHNUNG</th>\n",
       "      <th>BEFUNDEL</th>\n",
       "      <th>EINHEIT</th>\n",
       "      <th>NORMALWERTMIN</th>\n",
       "      <th>NORMALWERTMAX</th>\n",
       "      <th>ANMERKUNG</th>\n",
       "      <th>Uhrzeit</th>\n",
       "      <th>Minute</th>\n",
       "    </tr>\n",
       "  </thead>\n",
       "  <tbody>\n",
       "    <tr>\n",
       "      <th>0</th>\n",
       "      <td>0</td>\n",
       "      <td>2118007460</td>\n",
       "      <td>L-23013760</td>\n",
       "      <td>13.02.2018</td>\n",
       "      <td>NaN</td>\n",
       "      <td>5212</td>\n",
       "      <td>Hämoglobin</td>\n",
       "      <td>10.5</td>\n",
       "      <td>g/dl</td>\n",
       "      <td>11.7</td>\n",
       "      <td>15.9</td>\n",
       "      <td>NaN</td>\n",
       "      <td>16</td>\n",
       "      <td>49</td>\n",
       "    </tr>\n",
       "    <tr>\n",
       "      <th>1</th>\n",
       "      <td>1</td>\n",
       "      <td>2118007460</td>\n",
       "      <td>L-23013760</td>\n",
       "      <td>13.02.2018</td>\n",
       "      <td>NaN</td>\n",
       "      <td>134</td>\n",
       "      <td>C-reaktives Protein</td>\n",
       "      <td>56.6</td>\n",
       "      <td>mg/l</td>\n",
       "      <td>NaN</td>\n",
       "      <td>5</td>\n",
       "      <td>Ergebnis korreliert mit dem Vorwert_x000d_\\n</td>\n",
       "      <td>16</td>\n",
       "      <td>49</td>\n",
       "    </tr>\n",
       "    <tr>\n",
       "      <th>2</th>\n",
       "      <td>2</td>\n",
       "      <td>2118011309</td>\n",
       "      <td>L-23013912</td>\n",
       "      <td>13.02.2018</td>\n",
       "      <td>NaN</td>\n",
       "      <td>2103</td>\n",
       "      <td>aktivierte part.Thromboplastinzeit</td>\n",
       "      <td>32.4</td>\n",
       "      <td>sec</td>\n",
       "      <td>28.8</td>\n",
       "      <td>38.2</td>\n",
       "      <td>NaN</td>\n",
       "      <td>20</td>\n",
       "      <td>20</td>\n",
       "    </tr>\n",
       "    <tr>\n",
       "      <th>3</th>\n",
       "      <td>3</td>\n",
       "      <td>2118011853</td>\n",
       "      <td>L-23014426</td>\n",
       "      <td>14.02.2018</td>\n",
       "      <td>NaN</td>\n",
       "      <td>161</td>\n",
       "      <td>Glucose</td>\n",
       "      <td>79</td>\n",
       "      <td>mg/dl</td>\n",
       "      <td>73</td>\n",
       "      <td>107</td>\n",
       "      <td>NaN</td>\n",
       "      <td>13</td>\n",
       "      <td>11</td>\n",
       "    </tr>\n",
       "    <tr>\n",
       "      <th>4</th>\n",
       "      <td>4</td>\n",
       "      <td>2118008546</td>\n",
       "      <td>L-23002304</td>\n",
       "      <td>01.02.2018</td>\n",
       "      <td>NaN</td>\n",
       "      <td>138</td>\n",
       "      <td>Creatinkinase</td>\n",
       "      <td>115</td>\n",
       "      <td>U/l</td>\n",
       "      <td>38</td>\n",
       "      <td>191</td>\n",
       "      <td>NaN</td>\n",
       "      <td>14</td>\n",
       "      <td>1</td>\n",
       "    </tr>\n",
       "  </tbody>\n",
       "</table>\n",
       "</div>"
      ],
      "text/plain": [
       "   index      FALLNR  VORGANGSNR DATUMERBRACHTEL  ZEITERBRACHTEL  CODE  \\\n",
       "0      0  2118007460  L-23013760      13.02.2018             NaN  5212   \n",
       "1      1  2118007460  L-23013760      13.02.2018             NaN   134   \n",
       "2      2  2118011309  L-23013912      13.02.2018             NaN  2103   \n",
       "3      3  2118011853  L-23014426      14.02.2018             NaN   161   \n",
       "4      4  2118008546  L-23002304      01.02.2018             NaN   138   \n",
       "\n",
       "                          BEZEICHNUNG BEFUNDEL EINHEIT NORMALWERTMIN  \\\n",
       "0                          Hämoglobin     10.5    g/dl          11.7   \n",
       "1                 C-reaktives Protein     56.6    mg/l           NaN   \n",
       "2  aktivierte part.Thromboplastinzeit     32.4     sec          28.8   \n",
       "3                             Glucose       79   mg/dl            73   \n",
       "4                       Creatinkinase      115     U/l            38   \n",
       "\n",
       "  NORMALWERTMAX                                     ANMERKUNG  Uhrzeit  Minute  \n",
       "0          15.9                                           NaN       16      49  \n",
       "1             5  Ergebnis korreliert mit dem Vorwert_x000d_\\n       16      49  \n",
       "2          38.2                                           NaN       20      20  \n",
       "3           107                                           NaN       13      11  \n",
       "4           191                                           NaN       14       1  "
      ]
     },
     "execution_count": 10,
     "metadata": {},
     "output_type": "execute_result"
    }
   ],
   "source": [
    "all_data.head(5)"
   ]
  },
  {
   "cell_type": "code",
   "execution_count": 11,
   "metadata": {},
   "outputs": [],
   "source": [
    "mibi = all_data.query(\"CODE==55000\")"
   ]
  },
  {
   "cell_type": "code",
   "execution_count": 12,
   "metadata": {},
   "outputs": [
    {
     "name": "stdout",
     "output_type": "stream",
     "text": [
      "9559\n",
      "12711\n"
     ]
    }
   ],
   "source": [
    "print(len(mibi))\n",
    "mibi = mibi.append(all_data.query(\"CODE==10205\"))\n",
    "print(len(mibi))"
   ]
  },
  {
   "cell_type": "code",
   "execution_count": 13,
   "metadata": {},
   "outputs": [
    {
     "name": "stdout",
     "output_type": "stream",
     "text": [
      "12711\n",
      "15832\n"
     ]
    }
   ],
   "source": [
    "print(len(mibi))\n",
    "mibi = mibi.append(all_data.query(\"CODE==10200\")).copy()\n",
    "print(len(mibi))"
   ]
  },
  {
   "cell_type": "code",
   "execution_count": 14,
   "metadata": {},
   "outputs": [],
   "source": [
    "mibi[\"ANMERKUNG\"] = mibi[\"ANMERKUNG\"].str.replace(\"_x000d_\",\"\")\n"
   ]
  },
  {
   "cell_type": "code",
   "execution_count": 15,
   "metadata": {},
   "outputs": [],
   "source": [
    "mibi[\"ANMERKUNG\"] = mibi[\"ANMERKUNG\"].str.replace(\"GEWÜNSCHTE UNTERSUCHUNG:\\n .*\\n\",\"\")\n",
    "mibi[\"ANMERKUNG\"] = mibi[\"ANMERKUNG\"].str.replace(\" species\",\"\")\n",
    "mibi[\"ANMERKUNG\"] = mibi[\"ANMERKUNG\"].str.replace(\" sp.\",\"\")\n",
    "mibi[\"ANMERKUNG\"] = mibi[\"ANMERKUNG\"].str.replace(\"\\.\\.\\.*\",\" \")"
   ]
  },
  {
   "cell_type": "code",
   "execution_count": 16,
   "metadata": {},
   "outputs": [],
   "source": [
    "mibi = mibi[[\"FALLNR\",\"ANMERKUNG\"]]"
   ]
  },
  {
   "cell_type": "code",
   "execution_count": 28,
   "metadata": {},
   "outputs": [],
   "source": [
    "mibi.dropna(inplace=True)"
   ]
  },
  {
   "cell_type": "code",
   "execution_count": 29,
   "metadata": {},
   "outputs": [],
   "source": [
    "mibi.to_csv(\"../AKAH/Daten/Mibi/AKAH_Mibi_2019.csv\",encoding=\"latin1\",sep=\";\",index=False)"
   ]
  },
  {
   "cell_type": "code",
   "execution_count": 60,
   "metadata": {},
   "outputs": [],
   "source": [
    "lab = all_data.loc[~all_data.index.isin(mibi.index)].copy()"
   ]
  },
  {
   "cell_type": "code",
   "execution_count": 61,
   "metadata": {},
   "outputs": [
    {
     "data": {
      "text/html": [
       "<div>\n",
       "<style scoped>\n",
       "    .dataframe tbody tr th:only-of-type {\n",
       "        vertical-align: middle;\n",
       "    }\n",
       "\n",
       "    .dataframe tbody tr th {\n",
       "        vertical-align: top;\n",
       "    }\n",
       "\n",
       "    .dataframe thead th {\n",
       "        text-align: right;\n",
       "    }\n",
       "</style>\n",
       "<table border=\"1\" class=\"dataframe\">\n",
       "  <thead>\n",
       "    <tr style=\"text-align: right;\">\n",
       "      <th></th>\n",
       "      <th>index</th>\n",
       "      <th>FALLNR</th>\n",
       "      <th>VORGANGSNR</th>\n",
       "      <th>DATUMERBRACHTEL</th>\n",
       "      <th>ZEITERBRACHTEL</th>\n",
       "      <th>CODE</th>\n",
       "      <th>BEZEICHNUNG</th>\n",
       "      <th>BEFUNDEL</th>\n",
       "      <th>EINHEIT</th>\n",
       "      <th>NORMALWERTMIN</th>\n",
       "      <th>NORMALWERTMAX</th>\n",
       "      <th>ANMERKUNG</th>\n",
       "      <th>Uhrzeit</th>\n",
       "      <th>Minute</th>\n",
       "    </tr>\n",
       "  </thead>\n",
       "  <tbody>\n",
       "    <tr>\n",
       "      <th>0</th>\n",
       "      <td>0</td>\n",
       "      <td>2118007460</td>\n",
       "      <td>L-23013760</td>\n",
       "      <td>13.02.2018</td>\n",
       "      <td>NaN</td>\n",
       "      <td>5212</td>\n",
       "      <td>Hämoglobin</td>\n",
       "      <td>10.5</td>\n",
       "      <td>g/dl</td>\n",
       "      <td>11.7</td>\n",
       "      <td>15.9</td>\n",
       "      <td>NaN</td>\n",
       "      <td>16</td>\n",
       "      <td>49</td>\n",
       "    </tr>\n",
       "    <tr>\n",
       "      <th>1</th>\n",
       "      <td>1</td>\n",
       "      <td>2118007460</td>\n",
       "      <td>L-23013760</td>\n",
       "      <td>13.02.2018</td>\n",
       "      <td>NaN</td>\n",
       "      <td>134</td>\n",
       "      <td>C-reaktives Protein</td>\n",
       "      <td>56.6</td>\n",
       "      <td>mg/l</td>\n",
       "      <td>NaN</td>\n",
       "      <td>5</td>\n",
       "      <td>Ergebnis korreliert mit dem Vorwert_x000d_\\n</td>\n",
       "      <td>16</td>\n",
       "      <td>49</td>\n",
       "    </tr>\n",
       "    <tr>\n",
       "      <th>2</th>\n",
       "      <td>2</td>\n",
       "      <td>2118011309</td>\n",
       "      <td>L-23013912</td>\n",
       "      <td>13.02.2018</td>\n",
       "      <td>NaN</td>\n",
       "      <td>2103</td>\n",
       "      <td>aktivierte part.Thromboplastinzeit</td>\n",
       "      <td>32.4</td>\n",
       "      <td>sec</td>\n",
       "      <td>28.8</td>\n",
       "      <td>38.2</td>\n",
       "      <td>NaN</td>\n",
       "      <td>20</td>\n",
       "      <td>20</td>\n",
       "    </tr>\n",
       "    <tr>\n",
       "      <th>3</th>\n",
       "      <td>3</td>\n",
       "      <td>2118011853</td>\n",
       "      <td>L-23014426</td>\n",
       "      <td>14.02.2018</td>\n",
       "      <td>NaN</td>\n",
       "      <td>161</td>\n",
       "      <td>Glucose</td>\n",
       "      <td>79</td>\n",
       "      <td>mg/dl</td>\n",
       "      <td>73</td>\n",
       "      <td>107</td>\n",
       "      <td>NaN</td>\n",
       "      <td>13</td>\n",
       "      <td>11</td>\n",
       "    </tr>\n",
       "    <tr>\n",
       "      <th>4</th>\n",
       "      <td>4</td>\n",
       "      <td>2118008546</td>\n",
       "      <td>L-23002304</td>\n",
       "      <td>01.02.2018</td>\n",
       "      <td>NaN</td>\n",
       "      <td>138</td>\n",
       "      <td>Creatinkinase</td>\n",
       "      <td>115</td>\n",
       "      <td>U/l</td>\n",
       "      <td>38</td>\n",
       "      <td>191</td>\n",
       "      <td>NaN</td>\n",
       "      <td>14</td>\n",
       "      <td>1</td>\n",
       "    </tr>\n",
       "  </tbody>\n",
       "</table>\n",
       "</div>"
      ],
      "text/plain": [
       "   index      FALLNR  VORGANGSNR DATUMERBRACHTEL  ZEITERBRACHTEL  CODE  \\\n",
       "0      0  2118007460  L-23013760      13.02.2018             NaN  5212   \n",
       "1      1  2118007460  L-23013760      13.02.2018             NaN   134   \n",
       "2      2  2118011309  L-23013912      13.02.2018             NaN  2103   \n",
       "3      3  2118011853  L-23014426      14.02.2018             NaN   161   \n",
       "4      4  2118008546  L-23002304      01.02.2018             NaN   138   \n",
       "\n",
       "                          BEZEICHNUNG BEFUNDEL EINHEIT NORMALWERTMIN  \\\n",
       "0                          Hämoglobin     10.5    g/dl          11.7   \n",
       "1                 C-reaktives Protein     56.6    mg/l           NaN   \n",
       "2  aktivierte part.Thromboplastinzeit     32.4     sec          28.8   \n",
       "3                             Glucose       79   mg/dl            73   \n",
       "4                       Creatinkinase      115     U/l            38   \n",
       "\n",
       "  NORMALWERTMAX                                     ANMERKUNG  Uhrzeit  Minute  \n",
       "0          15.9                                           NaN       16      49  \n",
       "1             5  Ergebnis korreliert mit dem Vorwert_x000d_\\n       16      49  \n",
       "2          38.2                                           NaN       20      20  \n",
       "3           107                                           NaN       13      11  \n",
       "4           191                                           NaN       14       1  "
      ]
     },
     "execution_count": 61,
     "metadata": {},
     "output_type": "execute_result"
    }
   ],
   "source": [
    "lab.head()"
   ]
  },
  {
   "cell_type": "code",
   "execution_count": 62,
   "metadata": {},
   "outputs": [],
   "source": [
    "lab[\"EINHEIT\"].loc[lab[\"BEZEICHNUNG\"].isin(analyte_dict[\"PCO2\"])] = \"mmhg\""
   ]
  },
  {
   "cell_type": "code",
   "execution_count": 63,
   "metadata": {},
   "outputs": [],
   "source": [
    "lab[\"EINHEIT\"].loc[lab[\"BEZEICHNUNG\"].isin(analyte_dict[\"PO2\"])] = \"mmhg\""
   ]
  },
  {
   "cell_type": "code",
   "execution_count": 64,
   "metadata": {},
   "outputs": [],
   "source": [
    "lab=lab[~lab[\"DATUMERBRACHTEL\"].isin([\"p\"])]"
   ]
  },
  {
   "cell_type": "code",
   "execution_count": 65,
   "metadata": {},
   "outputs": [
    {
     "name": "stderr",
     "output_type": "stream",
     "text": [
      "C:\\ProgramData\\Miniconda3\\lib\\site-packages\\ipykernel_launcher.py:4: SettingWithCopyWarning: \n",
      "A value is trying to be set on a copy of a slice from a DataFrame\n",
      "\n",
      "See the caveats in the documentation: http://pandas.pydata.org/pandas-docs/stable/indexing.html#indexing-view-versus-copy\n",
      "  after removing the cwd from sys.path.\n"
     ]
    }
   ],
   "source": [
    "lab[\"Datum\"]=lab[\"DATUMERBRACHTEL\"].astype(str)+\" \"+lab[\"Uhrzeit\"].astype(str)+\":\"+lab[\"Minute\"].astype(str)+\":00\"\n",
    "lab[\"Referenzbereich\"]=lab[\"NORMALWERTMIN\"].astype(str)+\"-\"+lab[\"NORMALWERTMAX\"]\n",
    "krea_mask = lab[\"BEZEICHNUNG\"]==\"Kreatinin im Serum\"\n",
    "lab[\"Referenzbereich\"][krea_mask] = (lab[\"NORMALWERTMIN\"][krea_mask].astype(float)*88.4).astype(str)+\"-\"+(lab[\"NORMALWERTMAX\"][krea_mask].astype(float)*88.4).astype(str)"
   ]
  },
  {
   "cell_type": "code",
   "execution_count": 66,
   "metadata": {},
   "outputs": [],
   "source": [
    "lab.to_csv(\"../AKAH/Daten/Labor/AKAH_Labor_2019.csv\",encoding=\"latin1\",sep=\";\",index=False)"
   ]
  },
  {
   "cell_type": "code",
   "execution_count": null,
   "metadata": {},
   "outputs": [],
   "source": []
  }
 ],
 "metadata": {
  "kernelspec": {
   "display_name": "Python 3",
   "language": "python",
   "name": "python3"
  },
  "language_info": {
   "codemirror_mode": {
    "name": "ipython",
    "version": 3
   },
   "file_extension": ".py",
   "mimetype": "text/x-python",
   "name": "python",
   "nbconvert_exporter": "python",
   "pygments_lexer": "ipython3",
   "version": "3.7.1"
  }
 },
 "nbformat": 4,
 "nbformat_minor": 2
}
