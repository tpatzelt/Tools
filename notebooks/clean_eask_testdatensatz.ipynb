{
 "cells": [
  {
   "cell_type": "code",
   "execution_count": 40,
   "metadata": {},
   "outputs": [],
   "source": [
    "import pandas as pd"
   ]
  },
  {
   "cell_type": "code",
   "execution_count": 41,
   "metadata": {},
   "outputs": [],
   "source": [
    "lab = pd.read_csv(\"19-02-13 geteilt/Labor_2018_HJ1.csv\",sep=\",\",encoding=\"latin1\")"
   ]
  },
  {
   "cell_type": "code",
   "execution_count": 42,
   "metadata": {},
   "outputs": [
    {
     "data": {
      "text/html": [
       "<div>\n",
       "<style scoped>\n",
       "    .dataframe tbody tr th:only-of-type {\n",
       "        vertical-align: middle;\n",
       "    }\n",
       "\n",
       "    .dataframe tbody tr th {\n",
       "        vertical-align: top;\n",
       "    }\n",
       "\n",
       "    .dataframe thead th {\n",
       "        text-align: right;\n",
       "    }\n",
       "</style>\n",
       "<table border=\"1\" class=\"dataframe\">\n",
       "  <thead>\n",
       "    <tr style=\"text-align: right;\">\n",
       "      <th></th>\n",
       "      <th>FALLNR</th>\n",
       "      <th>VORGANGSNR</th>\n",
       "      <th>DATUMERBRACHTEL</th>\n",
       "      <th>CODE</th>\n",
       "      <th>BEZEICHNUNG</th>\n",
       "      <th>BEFUNDEL</th>\n",
       "      <th>EINHEIT</th>\n",
       "      <th>NORMALWERTMIN</th>\n",
       "      <th>NORMALWERTMAX</th>\n",
       "      <th>ANMERKUNG</th>\n",
       "      <th>Uhrzeit</th>\n",
       "      <th>Minute</th>\n",
       "    </tr>\n",
       "  </thead>\n",
       "  <tbody>\n",
       "    <tr>\n",
       "      <th>0</th>\n",
       "      <td>2318000298</td>\n",
       "      <td>L-22888663</td>\n",
       "      <td>04.01.2018</td>\n",
       "      <td>162</td>\n",
       "      <td>HbA1c</td>\n",
       "      <td>7.6</td>\n",
       "      <td>%</td>\n",
       "      <td>3.9</td>\n",
       "      <td>6.1</td>\n",
       "      <td>Die HbA1c Analyse wird mit der HPLC Methode du...</td>\n",
       "      <td>10</td>\n",
       "      <td>37</td>\n",
       "    </tr>\n",
       "    <tr>\n",
       "      <th>1</th>\n",
       "      <td>2318000357</td>\n",
       "      <td>L-15761747</td>\n",
       "      <td>03.01.2018</td>\n",
       "      <td>22080</td>\n",
       "      <td>Kreatinin Poct</td>\n",
       "      <td>!storno</td>\n",
       "      <td>mg/dl</td>\n",
       "      <td>0.5</td>\n",
       "      <td>1.1</td>\n",
       "      <td>NaN</td>\n",
       "      <td>18</td>\n",
       "      <td>20</td>\n",
       "    </tr>\n",
       "    <tr>\n",
       "      <th>2</th>\n",
       "      <td>2318000357</td>\n",
       "      <td>L-15761747</td>\n",
       "      <td>03.01.2018</td>\n",
       "      <td>22170</td>\n",
       "      <td>stand. O2 Sättigung Poct</td>\n",
       "      <td>68.5</td>\n",
       "      <td>%</td>\n",
       "      <td>67</td>\n",
       "      <td>76</td>\n",
       "      <td>NaN</td>\n",
       "      <td>18</td>\n",
       "      <td>20</td>\n",
       "    </tr>\n",
       "    <tr>\n",
       "      <th>3</th>\n",
       "      <td>2318000357</td>\n",
       "      <td>L-15761747</td>\n",
       "      <td>p</td>\n",
       "      <td>26101</td>\n",
       "      <td>POCT HHb arteriell</td>\n",
       "      <td>30.7</td>\n",
       "      <td>NaN</td>\n",
       "      <td>NaN</td>\n",
       "      <td>NaN</td>\n",
       "      <td>NaN</td>\n",
       "      <td>18</td>\n",
       "      <td>20</td>\n",
       "    </tr>\n",
       "    <tr>\n",
       "      <th>4</th>\n",
       "      <td>2318000506</td>\n",
       "      <td>L-22889336</td>\n",
       "      <td>04.01.2018</td>\n",
       "      <td>134</td>\n",
       "      <td>C-reaktives Protein</td>\n",
       "      <td>74.2</td>\n",
       "      <td>mg/l</td>\n",
       "      <td>NaN</td>\n",
       "      <td>5</td>\n",
       "      <td>NaN</td>\n",
       "      <td>16</td>\n",
       "      <td>40</td>\n",
       "    </tr>\n",
       "  </tbody>\n",
       "</table>\n",
       "</div>"
      ],
      "text/plain": [
       "       FALLNR  VORGANGSNR DATUMERBRACHTEL   CODE               BEZEICHNUNG  \\\n",
       "0  2318000298  L-22888663      04.01.2018    162                     HbA1c   \n",
       "1  2318000357  L-15761747      03.01.2018  22080            Kreatinin Poct   \n",
       "2  2318000357  L-15761747      03.01.2018  22170  stand. O2 Sättigung Poct   \n",
       "3  2318000357  L-15761747               p  26101        POCT HHb arteriell   \n",
       "4  2318000506  L-22889336      04.01.2018    134       C-reaktives Protein   \n",
       "\n",
       "  BEFUNDEL EINHEIT NORMALWERTMIN NORMALWERTMAX  \\\n",
       "0      7.6       %           3.9           6.1   \n",
       "1  !storno   mg/dl           0.5           1.1   \n",
       "2     68.5       %            67            76   \n",
       "3     30.7     NaN           NaN           NaN   \n",
       "4     74.2    mg/l           NaN             5   \n",
       "\n",
       "                                           ANMERKUNG  Uhrzeit  Minute  \n",
       "0  Die HbA1c Analyse wird mit der HPLC Methode du...       10      37  \n",
       "1                                                NaN       18      20  \n",
       "2                                                NaN       18      20  \n",
       "3                                                NaN       18      20  \n",
       "4                                                NaN       16      40  "
      ]
     },
     "execution_count": 42,
     "metadata": {},
     "output_type": "execute_result"
    }
   ],
   "source": [
    "# \"%d.%m.%Y %H:%M:%S\"\n",
    "lab.head()\n"
   ]
  },
  {
   "cell_type": "code",
   "execution_count": 43,
   "metadata": {},
   "outputs": [],
   "source": [
    "lab[\"Datum\"]=lab[\"DATUMERBRACHTEL\"].astype(str)+\" \"+lab[\"Uhrzeit\"].astype(str)+\":\"+lab[\"Minute\"].astype(str)+\":00\""
   ]
  },
  {
   "cell_type": "code",
   "execution_count": 44,
   "metadata": {},
   "outputs": [],
   "source": [
    "lab[\"Referenzbereich\"]=lab[\"NORMALWERTMIN\"].astype(str)+\"-\"+lab[\"NORMALWERTMAX\"]\n"
   ]
  },
  {
   "cell_type": "code",
   "execution_count": 45,
   "metadata": {},
   "outputs": [
    {
     "name": "stderr",
     "output_type": "stream",
     "text": [
      "C:\\Users\\tpatz\\AppData\\Local\\Programs\\Python\\Python36\\lib\\site-packages\\ipykernel_launcher.py:2: SettingWithCopyWarning: \n",
      "A value is trying to be set on a copy of a slice from a DataFrame\n",
      "\n",
      "See the caveats in the documentation: http://pandas.pydata.org/pandas-docs/stable/indexing.html#indexing-view-versus-copy\n",
      "  \n"
     ]
    }
   ],
   "source": [
    "krea_mask = lab[\"BEZEICHNUNG\"]==\"Kreatinin im Serum\"\n",
    "lab[\"Referenzbereich\"][krea_mask] = (lab[\"NORMALWERTMIN\"][krea_mask].astype(float)*88.4).astype(str)+\"-\"+(lab[\"NORMALWERTMAX\"][krea_mask].astype(float)*88.4).astype(str)"
   ]
  },
  {
   "cell_type": "code",
   "execution_count": 47,
   "metadata": {},
   "outputs": [
    {
     "name": "stdout",
     "output_type": "stream",
     "text": [
      "1041910\n",
      "1041910\n",
      "1041909\n"
     ]
    }
   ],
   "source": [
    "print(len(lab))\n",
    "lab = lab[~lab[\"CODE\"].isin([\"55000\"])]\n",
    "print(len(lab))\n",
    "lab=lab[~lab[\"DATUMERBRACHTEL\"].isin([\"p\"])]\n",
    "print(len(lab))"
   ]
  },
  {
   "cell_type": "code",
   "execution_count": null,
   "metadata": {},
   "outputs": [],
   "source": []
  },
  {
   "cell_type": "code",
   "execution_count": null,
   "metadata": {},
   "outputs": [],
   "source": []
  },
  {
   "cell_type": "code",
   "execution_count": 48,
   "metadata": {},
   "outputs": [],
   "source": [
    "lab.to_csv(\"Labor_EASK.csv\",sep=\";\",encoding=\"latin1\",index=\"False\")"
   ]
  },
  {
   "cell_type": "code",
   "execution_count": null,
   "metadata": {},
   "outputs": [],
   "source": []
  }
 ],
 "metadata": {
  "kernelspec": {
   "display_name": "Python 3",
   "language": "python",
   "name": "python3"
  },
  "language_info": {
   "codemirror_mode": {
    "name": "ipython",
    "version": 3
   },
   "file_extension": ".py",
   "mimetype": "text/x-python",
   "name": "python",
   "nbconvert_exporter": "python",
   "pygments_lexer": "ipython3",
   "version": "3.6.5"
  }
 },
 "nbformat": 4,
 "nbformat_minor": 2
}
